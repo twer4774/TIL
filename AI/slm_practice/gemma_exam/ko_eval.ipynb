{
 "cells": [
  {
   "cell_type": "markdown",
   "metadata": {},
   "source": [
    "# LogicKor를 이용한 파인튜닝모델 평가\n"
   ]
  },
  {
   "cell_type": "code",
   "execution_count": null,
   "metadata": {},
   "outputs": [],
   "source": [
    "!pip install --upgrade pip setuptools"
   ]
  },
  {
   "cell_type": "code",
   "execution_count": null,
   "metadata": {},
   "outputs": [],
   "source": [
    "!git clone https://github.com/instructkr/LogicKor.git"
   ]
  },
  {
   "cell_type": "code",
   "execution_count": null,
   "metadata": {},
   "outputs": [],
   "source": [
    "!ls"
   ]
  },
  {
   "cell_type": "code",
   "execution_count": null,
   "metadata": {},
   "outputs": [],
   "source": [
    "%cd LogicKor"
   ]
  },
  {
   "cell_type": "code",
   "execution_count": null,
   "metadata": {},
   "outputs": [],
   "source": [
    "!nvidia-smi # 하드디스크 정보 표시"
   ]
  },
  {
   "cell_type": "code",
   "execution_count": null,
   "metadata": {},
   "outputs": [],
   "source": [
    "!pip install aphrodite vllm ruff # LogicKor에서 필요한 라이브러리들"
   ]
  },
  {
   "cell_type": "code",
   "execution_count": null,
   "metadata": {},
   "outputs": [],
   "source": [
    "!python generator.py --model wonik-hi/phi3_fine_tuning --gpu_devices 0 --model_len 4096"
   ]
  },
  {
   "cell_type": "code",
   "execution_count": null,
   "metadata": {},
   "outputs": [],
   "source": [
    "!python generator.py --model yanolja/EEVE-Korean-Instruct-10.8B-v1.0 --gpu_devices 0 --model_len 4096"
   ]
  },
  {
   "cell_type": "code",
   "execution_count": null,
   "metadata": {},
   "outputs": [],
   "source": [
    "from google.colab import userdata\n",
    "OpenAIKey = userdata.get('OpenAIKey3')"
   ]
  },
  {
   "cell_type": "code",
   "execution_count": null,
   "metadata": {},
   "outputs": [],
   "source": [
    "# evaluator.py => LogicKor 파일 수정 필요\n",
    "# main 함수 코드 변경\n",
    "\"\"\"\n",
    "args = get_args()\n",
    "    if args.azure:\n",
    "        client = create_azure_openai_client(args.openai_api_key)\n",
    "    else:\n",
    "        client = create_openai_client(args.openai_api_key)\n",
    "    input_dir = Path(args.model_output_dir)\n",
    "    tmp = args.model_output_dir.replace(\"./generated\", \"\")\n",
    "    output_dir = Path(\"./evaluated\"+tmp)\n",
    "    print(output_dir)\n",
    "    # Filter out hidden files\n",
    "    json_files = [file for file in input_dir.rglob(\"*.jsonl\") if not is_hidden(file)]\n",
    "    print(f\"Found {len(json_files)} JSON files to process\")\n",
    "\n",
    "    for file_path in json_files:\n",
    "        output_file_path = output_dir / file_path.relative_to(input_dir)\n",
    "        if output_file_path.exists():\n",
    "            print(f\"이미 평가 완료.. : {file_path}\")\n",
    "            continue\n",
    "        process_file(client, file_path, output_dir, args.judge_model, args.threads, args)\n",
    "        time.sleep(20)  # to handle ratelimit!\n",
    "\"\"\"\n",
    "\n",
    "\n",
    "\"\"\"\n",
    "추가 코드. 평가 모델 변경 필요\n",
    "evaluator.py\n",
    "31번 라인\n",
    "parser.add_argument(\"-j\", \"--judge-model\", help=\"Judge Model\", default=\"gpt-4o\")\n",
    "\"\"\""
   ]
  },
  {
   "cell_type": "code",
   "execution_count": null,
   "metadata": {},
   "outputs": [],
   "source": [
    "# 과금주의\n",
    "!python evaluator.py -o ./generated/wonik-hi/phi3_fine_tuning -k {OpenAIkey} -t 30"
   ]
  },
  {
   "cell_type": "code",
   "execution_count": null,
   "metadata": {},
   "outputs": [],
   "source": [
    "!python evaluator.py -o ./generated/yanolja/EEVE-Korean-Instruct-10.8B-v1.0 -k OpenAIKey -t 30"
   ]
  },
  {
   "cell_type": "code",
   "execution_count": null,
   "metadata": {},
   "outputs": [],
   "source": [
    "# 생성한 파일 경로 이동 코드\n",
    "#필요에 따라 활용. 필요 없을 경우 SKIP\n",
    "import os\n",
    "import shutil\n",
    "\n",
    "source_path = '/content/Logic'\n",
    "\n",
    "destination_path = '/content/drive/MyDrive/gdrive/part5_eval/'\n",
    "\n",
    "if not os.path.exists(destination_path):\n",
    "    os.makedirs(destination_path)\n",
    "\n",
    "\n",
    "print(os.listdir(source_path))\n",
    "\n",
    "# 파일 이동\n",
    "for filename in os.listdir(source_path):\n",
    "    print(filename)\n",
    "    source_file_path = os.path.join(source_path, filename)\n",
    "    print(source_file_path)\n",
    "    if os.path.isfile(source_file_path) or os.path.isdir(source_file_path):\n",
    "        shutil.move(source_file_path, destination_path)\n",
    "        #shutil.copy(destination_path, source_path)"
   ]
  }
 ],
 "metadata": {
  "language_info": {
   "name": "python"
  }
 },
 "nbformat": 4,
 "nbformat_minor": 2
}
