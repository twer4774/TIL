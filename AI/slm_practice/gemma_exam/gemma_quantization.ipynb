{
 "cells": [
  {
   "cell_type": "markdown",
   "metadata": {},
   "source": [
    "# Gemma Quantization 방법\n"
   ]
  },
  {
   "cell_type": "markdown",
   "metadata": {},
   "source": [
    "## 양자화 방법 1.\n",
    "- 허깅페이스에서 다운로드 후 양자화 -> 허깅페이스 재업로드"
   ]
  },
  {
   "cell_type": "code",
   "execution_count": null,
   "metadata": {
    "vscode": {
     "languageId": "plaintext"
    }
   },
   "outputs": [],
   "source": [
    "!pip instlal huggingface_hub"
   ]
  },
  {
   "cell_type": "code",
   "execution_count": null,
   "metadata": {},
   "outputs": [],
   "source": [
    "import huggingface_hub\n",
    "\n",
    "huggingface_hub.login()"
   ]
  },
  {
   "cell_type": "code",
   "execution_count": null,
   "metadata": {},
   "outputs": [],
   "source": [
    "!pip install --upgrade trasnformers bitsandbytes accelerate"
   ]
  },
  {
   "cell_type": "code",
   "execution_count": null,
   "metadata": {},
   "outputs": [],
   "source": [
    "import torch\n",
    "from transformers import AutoTokenizer, AutoModelForCausalLM, set_seed, BitstAndBytesConfig\n",
    "\n",
    "set_seed(1234)\n",
    "\n",
    "prompt = \"The best recipe for pasta is\"\n",
    "\n",
    "#checkpoint = \"googl/gemma-7b\"\n",
    "checkpoint = \"wonik-hi/gemma-2b-it-ko_v2\"\n",
    "\n",
    "compute_dtype = getattr(torch, \"float16\")\n",
    "bnb_config = BitsAndBytesConfig(\n",
    "    load_in_4bit=True,\n",
    "    bnb_4bit_quant_type=\"nf4\",\n",
    "    bnb_4bit_compute_dtype=compute_dtype,\n",
    "    bnb_4biy_use_double_quant=True,\n",
    ")\n",
    "\n",
    "tokenizer = AutoTokenizer.from_pretrained(checkpoint)\n",
    "model = AutoModelForCausalLM.from_pretrained(checkpoint, quantization_config=bnb_config, device_map=\"cuda\")\n",
    "\n",
    "inputs = tokenizer(prompt, return_tensors=\"pt\").to('cuda')\n",
    "outputs = model.generate(**inputs, do_sample=True, max_new_tokens=150)\n",
    "result = tokenizer.decode(outputs[0], skip_special_tokens=True)\n",
    "\n",
    "print(result)"
   ]
  },
  {
   "cell_type": "code",
   "execution_count": null,
   "metadata": {},
   "outputs": [],
   "source": [
    "# 양자화\n",
    "import torch\n",
    "from transformers import AutoTokenizer, AutoModelForCausalLM, BitsAndBytesConfig\n",
    "\n",
    "model_name = \"wonik-hi/gemma-2b-it-ko_v2\"\n",
    "quant_path = \"gemma-2b-bnb-4bit\"\n",
    "tokenizer = AutoTokenizer.from_pretrained(model_name, trust_remote_code=True)\n",
    "compute_dtype = getattr(torch, \"float16\")\n",
    "bnb_config = BitsAndBytesConfig(\n",
    "    load_in_4bit=True,\n",
    "    bnb_4bit_quant_type=\"nf4\",\n",
    "    bnb_4bit_compute_dtype=compute_dtype,\n",
    "    bnb_4bit_use_double_quant=True,\n",
    ")\n",
    "model = AutoModelForCausalLM.from_pretrained(\n",
    "    model_name, quantization_config=bnb_config, trust_remote_code=True\n",
    ")\n",
    "\n",
    "model.save_pretrained(\"./\"+quant_path, safetensors=True)\n",
    "tokenizer.save_pretrained(\"./\"+quant_path)\n",
    "\n",
    "model.push_to_hub(\"wonik-hi/gemma-2b-bnb-4bit\")\n",
    "tokenizer.push_to_hub(\"wonik-hi/gemma-2b-bnb-4bit\")"
   ]
  },
  {
   "cell_type": "code",
   "execution_count": null,
   "metadata": {},
   "outputs": [],
   "source": [
    "# Harness로 평가\n",
    "!pip install git+https://github.com/EleutherAI/lm-evaluation-harness.git\n",
    "!pip install auto-gptq optimum autoawq"
   ]
  },
  {
   "cell_type": "code",
   "execution_count": null,
   "metadata": {},
   "outputs": [],
   "source": [
    "!lm_eval --model hf --model_args pretrained=wonik-hi/gemma-2b-bnb-4bit --tasks winogrande,hellaswag,arc_challenge --device cuda:0 --num_fewshot 1 --batch_size 8 --output_path ./eval_harness/gemma-2b-bnb-4bit"
   ]
  },
  {
   "cell_type": "code",
   "execution_count": null,
   "metadata": {},
   "outputs": [],
   "source": [
    "!lm_eval --model hf --model_args pretrained=wonik-hi/gemma-2b-bnb-4bit --tasks winogrande,hellaswag,arc_challenge --device cuda:0 --num_fewshot 5 --batch_size 8 --output_path ./eval_harness/gemma-2b-5shot"
   ]
  }
 ],
 "metadata": {
  "language_info": {
   "name": "python"
  }
 },
 "nbformat": 4,
 "nbformat_minor": 2
}
