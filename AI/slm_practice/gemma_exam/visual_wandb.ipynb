{
 "cells": [
  {
   "cell_type": "markdown",
   "metadata": {},
   "source": [
    "# Weights and Biases로 결과 값 비쥬얼라이징\n",
    "- WanDB 이용"
   ]
  },
  {
   "cell_type": "code",
   "execution_count": null,
   "metadata": {
    "vscode": {
     "languageId": "plaintext"
    }
   },
   "outputs": [],
   "source": [
    "!git clone https://github.com/EleutherAI/lm-evaluation-harness"
   ]
  },
  {
   "cell_type": "code",
   "execution_count": null,
   "metadata": {
    "vscode": {
     "languageId": "plaintext"
    }
   },
   "outputs": [],
   "source": [
    "%cd lm-evaluation-harness"
   ]
  },
  {
   "cell_type": "code",
   "execution_count": null,
   "metadata": {
    "vscode": {
     "languageId": "plaintext"
    }
   },
   "outputs": [],
   "source": [
    "!pip install -e ."
   ]
  },
  {
   "cell_type": "code",
   "execution_count": null,
   "metadata": {
    "vscode": {
     "languageId": "plaintext"
    }
   },
   "outputs": [],
   "source": [
    "!pip -qq install wandb"
   ]
  },
  {
   "cell_type": "code",
   "execution_count": null,
   "metadata": {},
   "outputs": [],
   "source": [
    "import wandb\n",
    "\n",
    "wandb.login()"
   ]
  },
  {
   "cell_type": "code",
   "execution_count": null,
   "metadata": {},
   "outputs": [],
   "source": [
    "!lm_eval \\\n",
    "    --model hf \\\n",
    "    --model_args pretrained=oz1115/phi3_fine_tuning,trust_remote_code=True \\\n",
    "    --tasks hellaswag,mmlu_abstract_algebra \\\n",
    "    --device cuda:0 \\\n",
    "    --batch_size 8 \\\n",
    "    --output_path output/phi-2 \\\n",
    "    --limit 10 \\\n",
    "    --wandb_args project=lm-eval-harness-integration_console \\\n",
    "    --log_samples\n",
    "\n",
    "    \n",
    "\"\"\"\n",
    "!lm_eval \\\n",
    "    --model hf \\\n",
    "    --model_args pretrained=microsoft/phi-2,trust_remote_code=True \\\n",
    "    --tasks hellaswag,mmlu_abstract_algebra \\\n",
    "    --device cuda:0 \\\n",
    "    --batch_size 8 \\\n",
    "    --output_path output/phi-2 \\\n",
    "    --limit 10 \\\n",
    "    --wandb_args project=lm-eval-harness-integration \\\n",
    "    --log_samples\n",
    "\"\"\""
   ]
  },
  {
   "cell_type": "code",
   "execution_count": null,
   "metadata": {},
   "outputs": [],
   "source": [
    "import lm_eval\n",
    "from lm_eval.loggers import WandbLogger\n",
    "\n",
    "results = lm_eval.simple_evaluate(\n",
    "    model=\"hf\",\n",
    "    model_args=\"pretrained=wonik-hi/phi3_fine_tuning,trust_remote_code=True\",\n",
    "    tasks=\"hellaswag\",\n",
    "    log_samples=True,\n",
    ")\n",
    "\n",
    "wandb_logger = WandbLogger(\n",
    "    project=\"lm-eval-harness-integration\", job_type=\"eval\"\n",
    ")  # or empty if wandb.init(...) already called before\n",
    "wandb_logger.post_init(results)\n",
    "wandb_logger.log_eval_result()\n",
    "wandb_logger.log_eval_samples(results[\"samples\"])  # if log_samples"
   ]
  },
  {
   "cell_type": "code",
   "execution_count": null,
   "metadata": {},
   "outputs": [],
   "source": [
    "# 평가 지푤르 여러개 사용할 경우\n",
    "import lm_eval\n",
    "from lm_eval.loggers import WandbLogger\n",
    "\n",
    "results = lm_eval.simple_evalutate(\n",
    "    model=\"hf\",\n",
    "    model_args=\"pretrained=wonik-hi/phi3_fine_tuning,trust_remote_code=True\",\n",
    "    tasks=\"hellaswag,mmlu_abstract_algebra\",\n",
    "    log_samples=True,\n",
    ")\n",
    "\n",
    "wandb_logger = WandbLogger(\n",
    "    project=\"lm-eval-harness-integration\", job_type=\"eval\"\n",
    ")\n",
    "wandb_logger.post_init(results)\n",
    "wandb_logger.log_eval_result()\n",
    "wandb_logger.log_eval_samples(results[\"samples\"]) # if log_samples"
   ]
  }
 ],
 "metadata": {
  "language_info": {
   "name": "python"
  }
 },
 "nbformat": 4,
 "nbformat_minor": 2
}
