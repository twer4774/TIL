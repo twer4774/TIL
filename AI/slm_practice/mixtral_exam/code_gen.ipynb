{
 "cells": [
  {
   "cell_type": "markdown",
   "metadata": {},
   "source": [
    "# Code Gen\n",
    "- java 날것의 데이터 이용"
   ]
  },
  {
   "cell_type": "markdown",
   "metadata": {},
   "source": [
    "## DataFrame 만들기"
   ]
  },
  {
   "cell_type": "code",
   "execution_count": null,
   "metadata": {},
   "outputs": [],
   "source": [
    "!pip uninstall -y pyarrow\n",
    "!pip install datasets"
   ]
  },
  {
   "cell_type": "code",
   "execution_count": null,
   "metadata": {},
   "outputs": [],
   "source": [
    "!pip install huggingface_hub transformers sentence-transformers langchain_community langchain"
   ]
  },
  {
   "cell_type": "code",
   "execution_count": null,
   "metadata": {},
   "outputs": [],
   "source": [
    "# 벡터DB\n",
    "!pip install qdrant-client"
   ]
  },
  {
   "cell_type": "code",
   "execution_count": null,
   "metadata": {},
   "outputs": [],
   "source": [
    "from huggingface_hub import notebook_login\n",
    "\n",
    "notebook_login()"
   ]
  },
  {
   "cell_type": "code",
   "execution_count": null,
   "metadata": {},
   "outputs": [],
   "source": [
    "# 구글 드라이브 마운트 (필요 없는 경우 skip)\n",
    "from google.colab import drive\n",
    "drive.mount('/content/drive')"
   ]
  },
  {
   "cell_type": "code",
   "execution_count": 4,
   "metadata": {},
   "outputs": [
    {
     "name": "stdout",
     "output_type": "stream",
     "text": [
      "Converted ./data_samples/hi.java to ./converted_codebase/hi.java.txt\n"
     ]
    }
   ],
   "source": [
    "# 소스를 읽고 txt로 변환하는 함수\n",
    "def convert_files_to_txt(src_dir, dst_dir):\n",
    "    # If the destination directory does not exist, create it.\n",
    "    if not os.path.exists(dst_dir):\n",
    "        os.makedirs(dst_dir)\n",
    "    for root, dirs, files in os.walk(src_dir):\n",
    "        for file in files:\n",
    "            if not file.endswith('.jpg'):\n",
    "                file_path = os.path.join(root, file)\n",
    "            rel_path = os.path.relpath(file_path, src_dir)\n",
    "            # get the relative path to preserve directory structure\n",
    "            # Create the same directory structure in the new directory\n",
    "            new_root = os.path.join(dst_dir, os.path.dirname(rel_path))\n",
    "            os.makedirs(new_root, exist_ok=True)\n",
    "            try:\n",
    "                with open(file_path, 'r', encoding='utf-8') as f:\n",
    "                    data = f.read()\n",
    "            except UnicodeDecodeError:\n",
    "                # 문제가 발생하면 다른 처리를 하도록  처리 - 없으면 pretraining 실패 할 수 있음\n",
    "                try:\n",
    "                    with open(file_path, 'r', encoding='latin-1') as f:\n",
    "                        data = f.read()\n",
    "                except UnicodeDecodeError:\n",
    "                    print(f\"Failed to decode the file: {file_path}\")\n",
    "                continue\n",
    "            # Create a new file path with .txt extension\n",
    "            new_file_path = os.path.join(new_root, file + '.txt')\n",
    "            with open(new_file_path, 'w', encoding='utf-8') as f:\n",
    "                f.write(data)\n",
    "            print(f\"Converted {file_path} to {new_file_path}\")\n",
    "#\n",
    "import os\n",
    "# Call the function with the source and destination directory paths\n",
    "# convert_files_to_txt('/content/drive/MyDrive/data_samples', '/content/converted_codebase')\n",
    "convert_files_to_txt('./data_samples', './converted_codebase')\n",
    "#convert_files_to_text('/content/sample', '/content/des_folder')\n"
   ]
  },
  {
   "cell_type": "code",
   "execution_count": null,
   "metadata": {},
   "outputs": [],
   "source": [
    "from langchain_community.document_loaders import DirectoryLoader,TextLoader\n",
    "from langchain_community.vectorstores import Qdrant\n",
    "from langchain.text_splitter import RecursiveCharacterTextSplitter\n",
    "from langchain_community.embeddings import HuggingFaceBgeEmbeddings\n",
    "from langchain_community.llms.huggingface_pipeline import HuggingFacePipeline\n",
    "from transformers import AutoModelForCausalLM, AutoTokenizer, pipeline"
   ]
  },
  {
   "cell_type": "code",
   "execution_count": null,
   "metadata": {},
   "outputs": [],
   "source": [
    "src_dir = \"./data_sample\"\n",
    "loader = DirectoryLoader(src_dir, show_progress=True, loader_cls=TextLoader)\n",
    "repo_files = loader.load()\n",
    "print(f\"Number of files loaded: {len(repo_files)}\")\n",
    "#\n",
    "text_splitter = RecursiveCharacterTextSplitter(chunk_size=1500, chunk_overlap=150)\n",
    "documents = text_splitter.split_documents(documents=repo_files)\n",
    "print(f\"Number of documents : {len(documents)}\")\n"
   ]
  },
  {
   "cell_type": "code",
   "execution_count": null,
   "metadata": {},
   "outputs": [],
   "source": [
    "for doc in documents:\n",
    "    old_path_with_txt_extension = doc.metadata[\"source\"]\n",
    "    new_path_without_txt_extension = old_path_with_txt_extension.replace(\".txt\", \"\")\n",
    "    doc.metadata.update({\"source\": new_path_without_txt_extension})\n",
    "\n",
    "model_name = \"BAAI/bge-small-en-v1.5\"\n",
    "model_kwargs = {\"device\": \"cpu\"}\n",
    "encode_kwargs = {\"normalize_embeddings\":True}\n",
    "embeddings = HuggingFaceBgeEmbeddings(model_name=model_name,\n",
    "                                      model_kwargs=model_kwargs,\n",
    "                                      encode_kwargs=encode_kwargs,\n",
    "                                      )\n",
    "\n",
    "\n",
    "qdrant = Qdrant.from_documents(\n",
    "    documents,\n",
    "    embeddings,\n",
    "    path=\"/content/local_qdrant\",\n",
    "    collection_name=\"my_documents\",\n",
    ")"
   ]
  },
  {
   "cell_type": "code",
   "execution_count": null,
   "metadata": {},
   "outputs": [],
   "source": [
    "def pretty_print_docs(documents):\n",
    "    for doc in documents:\n",
    "        print(doc.metadata)\n",
    "        print(\" - - - - - - - - - - - - - - - - - - - - - - - - - - - - - - - - - - \")\n",
    "        print(doc.page_content)\n",
    "\n",
    "#query = \"what is the syntax to import text_splitter using langchain\"\n",
    "query = \"print of BinarySearch\"\n",
    "found_docs = qdrant.similarity_search(query)\n",
    "pretty_print_docs(found_docs)\n",
    "\n",
    "for doc in found_docs:\n",
    "    print(doc)"
   ]
  },
  {
   "cell_type": "markdown",
   "metadata": {},
   "source": [
    "## DataFrame 생성\n",
    "- 결과물이 wonik-hi/code_data2\n",
    "- 데이터프레임에 학습용으로 쓸려면 instruction, description을 포함하는 것이 좋다. (현재 filename, code만 존재)"
   ]
  },
  {
   "cell_type": "code",
   "execution_count": null,
   "metadata": {},
   "outputs": [],
   "source": [
    "import os \n",
    "import pandas as pd\n",
    "\n",
    "path = \"/content/drive/MyDrive/data_samples\"\n",
    "dst_dir=\"/content/drvie/MyDrvie/data_samples_res\"\n",
    "\n",
    "arr_code = []\n",
    "tmp={}\n",
    "\n",
    "if not os.path.exists(dst_dir):\n",
    "  os.makedirs(dst_dir)\n",
    "\n",
    "for root, dirs, files in os.walk(path):\n",
    "  for file in files:\n",
    "    if not file.endswith('.jpg'):\n",
    "      file_path = os.path.join(root, file)\n",
    "\n",
    "    rel_path = os.path.relpath(file_path, path)\n",
    "    new_root = os.path.join(dst_dir, os.path.dirname(rel_path))\n",
    "    #new_root = os.path.join(dst_dir, os.path.dirname(dst_dir))\n",
    "    #print(rel_path+\",\"+new_root)\n",
    "\n",
    "    new_file_path = os.path.join(new_root, file + '.txt')\n",
    "\n",
    "    try:\n",
    "      with open(file_path, 'r', encoding='utf-8') as f:\n",
    "        data = f.read()\n",
    "    except UnicodeDecodeError:\n",
    "      try:\n",
    "        with open(file_path, 'r', encoding='latin-1') as f:\n",
    "          data = f.read()\n",
    "      except UnicodeDecodeError:\n",
    "        print(f\"Failed to decode the file: {file_path}\")\n",
    "        continue\n",
    "\n",
    "    with open(new_file_path, 'w', encoding='utf-8') as f:\n",
    "        f.write(data)\n",
    "\n",
    "    tmp[\"filename\"] = rel_path\n",
    "    tmp[\"code\"] = data\n",
    "    arr_code.append(tmp.copy())\n",
    "    print(tmp[\"filename\"])\n",
    "\n",
    "arr_code"
   ]
  },
  {
   "cell_type": "code",
   "execution_count": null,
   "metadata": {},
   "outputs": [],
   "source": [
    "len(arr_code)"
   ]
  },
  {
   "cell_type": "code",
   "execution_count": null,
   "metadata": {},
   "outputs": [],
   "source": [
    "df = pd.DataFrame(arr_code)"
   ]
  },
  {
   "cell_type": "code",
   "execution_count": null,
   "metadata": {},
   "outputs": [],
   "source": [
    "from datasets import Dataset"
   ]
  },
  {
   "cell_type": "code",
   "execution_count": null,
   "metadata": {},
   "outputs": [],
   "source": [
    "vds = Dataset.from_pandas(df)"
   ]
  },
  {
   "cell_type": "code",
   "execution_count": null,
   "metadata": {},
   "outputs": [],
   "source": [
    "vds"
   ]
  },
  {
   "cell_type": "code",
   "execution_count": null,
   "metadata": {},
   "outputs": [],
   "source": [
    "vds.push_to_hub('wonik-hi/code_data2')"
   ]
  }
 ],
 "metadata": {
  "kernelspec": {
   "display_name": "Python 3",
   "language": "python",
   "name": "python3"
  },
  "language_info": {
   "codemirror_mode": {
    "name": "ipython",
    "version": 3
   },
   "file_extension": ".py",
   "mimetype": "text/x-python",
   "name": "python",
   "nbconvert_exporter": "python",
   "pygments_lexer": "ipython3",
   "version": "3.12.5"
  }
 },
 "nbformat": 4,
 "nbformat_minor": 2
}
