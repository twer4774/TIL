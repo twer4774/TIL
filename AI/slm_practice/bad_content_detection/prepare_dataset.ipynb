{
 "cells": [
  {
   "cell_type": "markdown",
   "metadata": {},
   "source": [
    "# 데이터 셋 준비\n",
    "- https://github.com/2runo/Curse-detection-data  # 욕설감지 데이터셋\n",
    "- https://github.com/jason9693/APEACH # 검증 데이터셋 \n",
    "- https://github.com/kocohub/korean-hate-speech"
   ]
  },
  {
   "cell_type": "code",
   "execution_count": null,
   "metadata": {},
   "outputs": [],
   "source": [
    "import os\n",
    "from IPython.display import display\n",
    "%matplotlib inline\n",
    "\n",
    "os.makedirs(\"raw\", exist_ok=True)\n",
    "os.makedirs(\"data/\", exist_ok=True)"
   ]
  },
  {
   "cell_type": "code",
   "execution_count": null,
   "metadata": {},
   "outputs": [],
   "source": [
    "from urllib import request\n",
    "import pandas as pd"
   ]
  },
  {
   "cell_type": "code",
   "execution_count": null,
   "metadata": {},
   "outputs": [],
   "source": [
    "def download(url, save_path):\n",
    "  request.urlretrieve(url, save_path)\n",
    "\n",
    "\n",
    "def download_curse_detection():\n",
    "  url = \"https://raw.githubusercontent.com/2runo/Curse-detection-data/master/dataset.txt\"\n",
    "  download(url, \"raw/curse.txt\")\n",
    "\n",
    "  return pd.read_csv(\"raw/curse.txt\", names=[\"text\", \"label\"], sep=\"|\", on_bad_lines='skip')\n",
    "\n",
    "curse = download_curse_detection()\n",
    "curse"
   ]
  },
  {
   "cell_type": "code",
   "execution_count": null,
   "metadata": {},
   "outputs": [],
   "source": [
    "from sklearn.model_selection import train_test_split\n",
    "\n",
    "display(curse.duplicated().sum())\n",
    "print(curse.label.unique())"
   ]
  },
  {
   "cell_type": "code",
   "execution_count": null,
   "metadata": {},
   "outputs": [],
   "source": [
    "curse.label"
   ]
  },
  {
   "cell_type": "code",
   "execution_count": null,
   "metadata": {},
   "outputs": [],
   "source": [
    "train, dev = train_test_split(curse, test_size=0.2, shuffle=True, stratify=curse.label, random_state=42)\n",
    "\n",
    "train.to_csv(\"data/curse_train.csv\", index=False)\n",
    "dev.to_csv(\"data/curse_dev.csv\", index=False)\n",
    "\n",
    "train"
   ]
  },
  {
   "cell_type": "markdown",
   "metadata": {},
   "source": [
    "## 다른 데이터셋 이용 방법"
   ]
  },
  {
   "cell_type": "code",
   "execution_count": null,
   "metadata": {},
   "outputs": [],
   "source": [
    "!git clone https://github.com/2runo/Curse-detection-data\n",
    "!git clone https://github.com/jason9693/APEACH\n",
    "!git clone https://github.com/kocohub/korean-hate-speech"
   ]
  },
  {
   "cell_type": "code",
   "execution_count": null,
   "metadata": {},
   "outputs": [],
   "source": [
    "import os\n",
    "from IPython.display import display\n",
    "%matplotlib inline\n",
    "\n",
    "os.makedirs(\"raw\", exist_ok=True)\n",
    "os.makedirs(\"data/\", exist_ok=True)"
   ]
  },
  {
   "cell_type": "code",
   "execution_count": null,
   "metadata": {},
   "outputs": [],
   "source": [
    "from urllib import request\n",
    "import pandas as pd"
   ]
  },
  {
   "cell_type": "code",
   "execution_count": null,
   "metadata": {},
   "outputs": [],
   "source": [
    "def download(url, save_path):\n",
    "  request.urlretrieve(url, save_path)\n",
    "\n",
    "\n",
    "def download_curse_detection():\n",
    "  url = \"https://raw.githubusercontent.com/2runo/Curse-detection-data/master/dataset.txt\"\n",
    "  download(url, \"raw/curse.txt\")\n",
    "\n",
    "  return pd.read_csv(\"raw/curse.txt\", names=[\"text\", \"label\"], sep=\"|\", on_bad_lines='skip')\n",
    "\n",
    "curse = download_curse_detection()\n",
    "curse"
   ]
  },
  {
   "cell_type": "code",
   "execution_count": null,
   "metadata": {},
   "outputs": [],
   "source": [
    "from sklearn.model_selection import train_test_split\n",
    "\n",
    "display(curse.duplicated().sum())\n",
    "print(curse.label.unique())"
   ]
  },
  {
   "cell_type": "code",
   "execution_count": null,
   "metadata": {},
   "outputs": [],
   "source": [
    "train, dev = train_test_split(curse, test_size=0.2, shuffle=True, stratify=curse.label, random_state=42)\n",
    "\n",
    "train.to_csv(\"data/curse_train.csv\", index=False)\n",
    "dev.to_csv(\"data/curse_dev.csv\", index=False)\n",
    "\n",
    "train"
   ]
  },
  {
   "cell_type": "code",
   "execution_count": null,
   "metadata": {},
   "outputs": [],
   "source": [
    "def download_korean_hate_speach():\n",
    "  url_train = \"https://raw.githubusercontent.com/kocohub/korean-hate-speech/master/labeled/train.tsv\"\n",
    "  url_dev = \"https://raw.githubusercontent.com/kocohub/korean-hate-speech/master/labeled/dev.tsv\"\n",
    "\n",
    "  path_train = \"raw/korean-hate-speech/train.tsv\"\n",
    "  path_dev = \"raw/korean-hate-speech/dev.tsv\"\n",
    "  os.makedirs(\"raw/korean-hate-speech\", exist_ok=True)\n",
    "  download(url_train, path_train)\n",
    "  download(url_dev, path_dev)\n",
    "\n",
    "  train = pd.read_csv(path_train, sep=\"\\t\")\n",
    "  dev = pd.read_csv(path_dev, sep=\"\\t\")\n",
    "\n",
    "  return train, dev\n",
    "\n",
    "train, dev = download_korean_hate_speach()\n",
    "display(train)\n",
    "display(dev)"
   ]
  },
  {
   "cell_type": "code",
   "execution_count": null,
   "metadata": {},
   "outputs": [],
   "source": [
    "print(train.comments.duplicated().sum())\n",
    "print(\"bias values\", train.bias.unique())\n",
    "print(\"hate values\", train.hate.unique())\n",
    "\n",
    "display(train.hate.value_counts())\n",
    "display(train.bias.value_counts())\n",
    "display(train.contain_gender_bias.value_counts())"
   ]
  },
  {
   "cell_type": "code",
   "execution_count": null,
   "metadata": {},
   "outputs": [],
   "source": [
    "from sklearn.preprocessing import LabelEncoder\n",
    "\n",
    "def prepare_khs(df, bias_le, hate_le):\n",
    "  df = df.copy()\n",
    "  df['bias'] = bias_le.transform(df.bias)\n",
    "  df['hate'] = hate_le.transform(df.hate)\n",
    "  return df\n",
    "\n",
    "bias_le = LabelEncoder().fit(train.bias)\n",
    "hate_le = LabelEncoder().fit(train.hate)\n",
    "print(bias_le.classes_)\n",
    "print(hate_le.classes_)\n",
    "\n",
    "train_khs = prepare_khs(train, bias_le, hate_le)\n",
    "display(train_khs)\n",
    "train_khs.to_csv(\"data/khs_train.csv\", index=False)\n",
    "dev_khs = prepare_khs(dev, bias_le, hate_le)\n",
    "display(dev_khs)\n",
    "dev_khs.to_csv(\"data/khs_dev.csv\", index=False)"
   ]
  }
 ],
 "metadata": {
  "language_info": {
   "name": "python"
  }
 },
 "nbformat": 4,
 "nbformat_minor": 2
}
