{
 "cells": [
  {
   "cell_type": "markdown",
   "metadata": {},
   "source": [
    "# 비속어 처리"
   ]
  },
  {
   "cell_type": "code",
   "execution_count": null,
   "metadata": {},
   "outputs": [],
   "source": [
    "!pip install transformers\n",
    "!pip install datasets\n",
    "!pip install evaluate # load_metric이 datasets >= 2.17 부터 제거됨"
   ]
  },
  {
   "cell_type": "code",
   "execution_count": null,
   "metadata": {},
   "outputs": [],
   "source": [
    "from huggingface_hub import notebook_login\n",
    "\n",
    "notebook_login()"
   ]
  },
  {
   "cell_type": "code",
   "execution_count": null,
   "metadata": {},
   "outputs": [],
   "source": [
    "from datasets import load_dataset\n",
    "from transformers import (\n",
    "    AutoTokenizer,\n",
    "    DataCollatorWithPadding,\n",
    "    AutoModelForSequenceClassification,\n",
    "    TrainingArguments,\n",
    "    Trainer\n",
    ")\n",
    "import numpy as np\n",
    "# from datasets import load_metric\n",
    "\n",
    "from evaluate import load\n",
    "\n",
    "\n",
    "# Load any dataset of choice for training.\n",
    "#hate_dataset = load_dataset(\"SetFit/toxic_conversations\")        # --> 실제 훈련 시 사용\n",
    "tokenizer = AutoTokenizer.from_pretrained(\"distilbert-base-uncased\")\n",
    "\n",
    "def preprocess_function(examples):\n",
    "  return tokenizer(examples[\"text\"], truncation=True)\n",
    "\n",
    "#tokenized_train = hate_dataset[\"train\"].map(preprocess_function, batched=True)     # --> 실제 훈련 시 사용\n",
    "#tokenized_test = hate_dataset[\"test\"].map(preprocess_function, batched=True)       # --> 실제 훈련 시 사용\n",
    "\n",
    "tmp_train = load_dataset(\"SetFit/toxic_conversations\", split=\"train[0:10]\")   # --> 실제 훈련시 삭제\n",
    "tmp_test = load_dataset(\"SetFit/toxic_conversations\", split=\"test[0:10]\")   # --> 실제 훈련시 삭제\n",
    "tokenized_train = tmp_train.map(preprocess_function, batched=True)\n",
    "tokenized_test = tmp_test.map(preprocess_function, batched=True)"
   ]
  },
  {
   "cell_type": "code",
   "execution_count": null,
   "metadata": {},
   "outputs": [],
   "source": [
    "data_collator = DataCollatorWithPadding(tokenizer=tokenizer)\n",
    "model = AutoModelForSequenceClassification.from_pretrained(\"distilbert-base-uncased\", num_labels=2)"
   ]
  },
  {
   "cell_type": "code",
   "execution_count": null,
   "metadata": {},
   "outputs": [],
   "source": [
    "tokenized_train"
   ]
  },
  {
   "cell_type": "code",
   "execution_count": null,
   "metadata": {},
   "outputs": [],
   "source": [
    "def compute_metrics(eval_pred):\n",
    "  load_accuracy = load(\"accuracy\")\n",
    "  logits, labels = eval_pred\n",
    "  predictions = np.argmax(logits, axis=-1)\n",
    "  accuracy = load_accuracy.compute(predictions=predictions, references=labels)[\"accuracy\"]\n",
    "  return {\"accuracy\": accuracy}\n",
    "\n",
    "training_args = TrainingArguments(\n",
    "    output_dir=\"hate\",\n",
    "    evaluation_strategy=\"epoch\",\n",
    "    save_strategy=\"epoch\",\n",
    "    learning_rate=2e-5,\n",
    "    per_device_train_batch_size=16,\n",
    "    per_device_eval_batch_size=16,\n",
    "    # num_train_epochs=2,\n",
    "    num_train_epochs=0.2,\n",
    "    weight_decay=0.01,\n",
    ")\n",
    "\n",
    "trainer = Trainer(\n",
    "    model=model,\n",
    "    args=training_args,\n",
    "    train_dataset=tokenized_train,\n",
    "    eval_dataset=tokenized_test,\n",
    "    tokenizer=tokenizer,\n",
    "    data_collator=data_collator,\n",
    "    compute_metrics=compute_metrics,\n",
    ")\n",
    "\n",
    "trainer.train()\n",
    "trainer.evaluate()"
   ]
  },
  {
   "cell_type": "code",
   "execution_count": null,
   "metadata": {},
   "outputs": [],
   "source": [
    "!pip install openai"
   ]
  },
  {
   "cell_type": "code",
   "execution_count": null,
   "metadata": {},
   "outputs": [],
   "source": [
    "from openai import OpenAI\n",
    "from google.colab import userdata\n",
    "\n",
    "# OpenAIKey = userdata.get(\"OPENAI_KEY\") # OPENAI KEY\n",
    "client = OpenAI(api_key=\"sk-proj-\")\n",
    "\n",
    "def detect_hate(input_text):\n",
    "  response = client.chat.completions.create(\n",
    "    model=\"gpt-3.5-turbo\",\n",
    "    temperature=0,\n",
    "    messages = [\n",
    "          {\"role\": \"system\",\n",
    "           \"content\" :\n",
    "           \"\"\"You are an expert content moderator.\"\"\"},\n",
    "          {\"role\": \"user\",\n",
    "           \"content\" : \"Is this hate speech?  ```%s```\" %(input_text)}])\n",
    "  res = response.choices[0].message.content\n",
    "  return res\n"
   ]
  },
  {
   "cell_type": "code",
   "execution_count": null,
   "metadata": {},
   "outputs": [],
   "source": [
    "detect_hate(\"It is about time for all illegals to go back to their country of origin and keep our freeway open and prevent heavy traffic.\")"
   ]
  }
 ],
 "metadata": {
  "language_info": {
   "name": "python"
  }
 },
 "nbformat": 4,
 "nbformat_minor": 2
}
