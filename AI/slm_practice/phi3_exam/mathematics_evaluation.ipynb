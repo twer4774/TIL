{
 "cells": [
  {
   "cell_type": "markdown",
   "metadata": {},
   "source": [
    "# 수학 추론 연구 동향\n",
    "\n",
    "## 수학 추론 태스크 종류 및 데이터 셋\n",
    "- 전통적 수학추론 : 서술형 수학 문제 풀이, 정리 증명, 기하 문제 풀이 및 수학 질의 응답\n",
    "- 서술형 수학 무넺 풀이 (MWP : Math Word Problem Solving)\n",
    "    - 사칙연산에 기반하여 하나 이상의 연산단계를 거처 풀이하는 문제\n",
    "    - 기본적으로 상식을 포함한 수학적 추론과 언어 이해를 필요로 함\n",
    "- 정리 증명(Theorem Proving)\n",
    "    - 형식 로직(Formal Local)을 사용하여 자동으로 수학 정리를 증명하는 태스크\n",
    "- 기하 문제풀이(GPS: Geometry Problem Solving)\n",
    "    - 다이어그램과 텍스트로 구성된 기하 문제의 정답을 구하는 태스크\n",
    "    - 언어적 이해뿐만 아니라 다이어그램과 같은 이미지에 대한 요구 필요\n",
    "- 수학 질의 응답(MathQA : Match Question Answering)\n",
    "    - 주어진 텍스트를 이해한 후 수학적 추론을 통해 질문에 맞는 답을 구하는 태스크\n",
    "\n",
    "## LLM 기반 MWP 연구동향\n",
    "- Fine tuning 조정 대신 ICL(In-Context Learning)을 이용하여 모델을 목적 태스크에 최적화 ==> 프롬프팅\n",
    "    - 통상적으로 ICL은 몇개의 입력과 출력의 쌍을 예제로 제공하여 여러 분야에서 좋은 성능을 보임\n",
    "    - 그러나 MWP에서는 두각을 보이지 못함 (수학 추론에서 두각을 못보였다는 말)\n",
    "- CoT(Chain-of-Thought) 기법 => 중간단계를 넣어서 해결\n",
    "    - 일련의 중간 추론 단계들을 few-shot 프롬프트 제공하는 기법의 ICL을 이용하여 LLM의 추론 능력을 향상\n",
    "    \n",
    "## 멀티모달 수학추론 동향\n",
    "- 수학 문제의 구분\n",
    "    - 기하학적 도형과 함께 텍스트 문제가 제시되는 GPS\n",
    "    - 다양한 테이블과 함께 문제가 제시되는 TabMWP(Tabular Mathematical Reasoning)\n",
    "    - 차트나 다양한 유형의 그림과 함께 제시되는 VQA(Visal Question Answering) 등이 존재\n",
    "- GPS 수학 이론\n",
    "    - 그림의 다양성과 이를 시각적으로 이해하기 위한 어노테이션의 세밀함 때문에 데이터의 규모가 증가\n",
    "    - 데이터셋의 발전과 함께 GPS 수학 추론 기술은 심볼릭 추론 방법의 Inter-GPS 모델, 그래프 기반 추론 방법의 PGDPNet 모델, Seq-to-Seq 추론 방법의 Geoformer 모델로 발전\n",
    "- TabMWP 수학이론\n",
    "    - 테이블 질의 응답 태스크에서 발전한 추론 태스크\n",
    "    - 테이블을 제시하고 테이블과 관련된 문제가 제시되면 정답을 추론하는 태스크\n",
    "    - 데이터셋은 TabMWP, FinQA, TAT-QA, MultiHiett 등 존재\n",
    "    - 테이블의 구조적 정보를 텍스트 문제와의 의미적 관계 정보로 변환하는 것이 중요\n",
    "    - BERT, RoBERTa와 같은 이해형 언어모델을 이용한 테이블 기계독해의 대표적인 모델로TAPAS가 있음\n",
    "    - GPT 이후 생성형 언어모델을 이용한 ICL을 이용한 TabMWP 수학 추론 모델은 Prompt-PG가 있음\n",
    "- 차트에 대한 수학추론\n",
    "    - 차트를 테이블로 변환하고, 텍스트 문제와 함게 초거대 언어모델로 ICL을 수행하는 DePlot 모델 존재\n",
    "- 멀티모달 콘텐츠 분석\n",
    "    - 복합추론(Compositional Reasoning)하는 도구증강형(Tool-augmented) 수학 추론 방법들이 연구"
   ]
  }
 ],
 "metadata": {
  "language_info": {
   "name": "python"
  }
 },
 "nbformat": 4,
 "nbformat_minor": 2
}
