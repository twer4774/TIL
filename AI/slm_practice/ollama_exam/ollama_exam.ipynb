{
 "cells": [
  {
   "cell_type": "code",
   "execution_count": null,
   "metadata": {},
   "outputs": [],
   "source": [
    "# colab google에서 연결된 런타임을 T4 GPU로 설정 후 실행해야함.\n",
    "# install package and laod the extension\n",
    "!pip install colab-xterm\n",
    "%load_ext colabxterm"
   ]
  },
  {
   "cell_type": "code",
   "execution_count": null,
   "metadata": {},
   "outputs": [],
   "source": [
    "%xterm\n",
    "\n",
    "# 터미널 내에 입력 (두줄 따로 입력)\n",
    "\"\"\"\n",
    "curl -fsSL https://ollama.com/install.sh | sh \n",
    "ollama serve & ollama pull llama3\n",
    "\"\"\""
   ]
  },
  {
   "cell_type": "code",
   "execution_count": null,
   "metadata": {},
   "outputs": [],
   "source": [
    "# !pip install langchain\n",
    "# !pip install langchain-core\n",
    "# !pip install langchain-community\n",
    "# !pip install langchain-ollama\n",
    "poetry add langchain langchain-core langchain-community"
   ]
  },
  {
   "cell_type": "code",
   "execution_count": null,
   "metadata": {},
   "outputs": [],
   "source": [
    "from langchain_community.llms import Ollama\n",
    "# from langchain_ollama.llms import Ollama\n",
    "llm = Ollama(model = \"llama3\")\n",
    "llm.invoke(\"Tell me 3 red flower names\")"
   ]
  },
  {
   "cell_type": "code",
   "execution_count": null,
   "metadata": {},
   "outputs": [],
   "source": [
    "# !pip install -q streamlit\n",
    "# !pip install streamlit_chat\n",
    "# !pip install langchain\n",
    "# !pip install langchain-core\n",
    "# !pip install langchain-community\n",
    "# !pip install chromadb\n",
    "# !pip install pypdf\n",
    "# !pip install fastembed\n",
    "# poetry add -q streamlit\n",
    "poetry add streamlit@1.11.1\n",
    "poetry add transformers@4.46.0 # chromadb tokenizer 때문에 다운그레이드 \n",
    "poetry add chromadb \n",
    "poetry add streamlit_chat langchain langchain-core langchain-community pypdf\n",
    "[tool.poetry.dependencies]\n",
    "python = \">=3.8,<3.13\"\n",
    "poetry add fastembed"
   ]
  },
  {
   "cell_type": "code",
   "execution_count": 2,
   "metadata": {},
   "outputs": [
    {
     "name": "stdout",
     "output_type": "stream",
     "text": [
      "Overwriting rag.py\n"
     ]
    }
   ],
   "source": [
    "%%writefile rag.py\n",
    "\n",
    "from langchain_community.vectorstores import Chroma\n",
    "from langchain_community.chat_models import ChatOllama\n",
    "from langchain_community.embeddings import FastEmbedEmbeddings\n",
    "from langchain.schema.output_parser import StrOutputParser\n",
    "from langchain_community.document_loaders import PyPDFLoader\n",
    "from langchain.text_splitter import RecursiveCharacterTextSplitter\n",
    "from langchain.schema.runnable import RunnablePassthrough\n",
    "from langchain.prompts import PromptTemplate\n",
    "from langchain.vectorstores.utils import filter_complex_metadata\n",
    "\n",
    "class ChatPDF:\n",
    "    vector_store = None\n",
    "    retriever = None\n",
    "    chain = None\n",
    "    \n",
    "    def __init__(self):\n",
    "        self.model = ChatOllama(model=\"llama3\")\n",
    "        self.text_splitter = RecursiveCharacterTextSplitter(chunk_size=1024, chunk_overlap=100)\n",
    "        self.prompt = PromptTemplate.from_template(\n",
    "            \"\"\"\n",
    "            <s> [INST] you are an assistant for question-answering tasks. Use the following pieces of retrieved context to answer the question.\n",
    "            If you don't konw the answer, just say that you don't know. Use three sentences maximum and keep the answer concise. [/INST] </s>\n",
    "            [INST] Question: {question}\n",
    "            Context: {context}\n",
    "            Answer: [/INST]\n",
    "            \"\"\"\n",
    "        )\n",
    "\n",
    "    def ingest(self, pdf_file_path: str):\n",
    "        docs = PyPDFLoader(file_path=pdf_file_path).load()\n",
    "        chunks = self.text_splitter.split_documents(docs)\n",
    "        chunks = filter_complex_metadata(chunks)\n",
    "\n",
    "        vector_store = Chroma.from_documents(documents=chunks, embedding=FastEmbedEmbeddings())\n",
    "        self.retriever = vector_store.as_retriever(\n",
    "            search_type=\"similarity_score_threshold\",\n",
    "            search_kwargs={\n",
    "                \"k\": 3,\n",
    "                \"score_threshold\": 0.5\n",
    "            },\n",
    "        )\n",
    "\n",
    "        self.chain = (\n",
    "            {\"context\": self.retriever, \"question\": RunnablePassthrough()}\n",
    "            | self.prompt\n",
    "            | self.model\n",
    "            | StrOutputParser()\n",
    "        \n",
    "        )\n",
    "\n",
    "    def ask(self, query: str):\n",
    "        if not self.chain:\n",
    "            return \"Please, add a PDF document first.\"\n",
    "        \n",
    "        return self.chain.invoke(query)\n",
    "\n",
    "    def clear(self):\n",
    "        self.vector_store = None\n",
    "        self.retriever = None\n",
    "        self.chain = None\n",
    "\n",
    "\n",
    "        \n"
   ]
  },
  {
   "cell_type": "code",
   "execution_count": 3,
   "metadata": {},
   "outputs": [
    {
     "name": "stdout",
     "output_type": "stream",
     "text": [
      "Overwriting app.py\n"
     ]
    }
   ],
   "source": [
    "%%writefile app.py\n",
    "import os\n",
    "import tempfile\n",
    "import streamlit as st\n",
    "from streamlit_chat import message\n",
    "from rag import ChatPDF\n",
    "\n",
    "st.set_page_config(page_title=\"ChatPDF\")\n",
    "\n",
    "def display_messages():\n",
    "    st.subheader(\"Chat\")\n",
    "    for i, (msg, is_user) in enumerate(st.session_state[\"message\"]):\n",
    "        message(msg, is_user=is_user, key=str(i))\n",
    "\n",
    "    st.session_state[\"thinking_spinner\"] = st.empty()\n",
    "\n",
    "def process_input():\n",
    "    if st.session_state[\"user_input\"] and len(st.session_state[\"user_input\"].strip()) > 0:\n",
    "        user_text= st.session_state[\"user_input\"].strip()\n",
    "        with st.session_state[\"thinking_spinner\"], st.spinner(f\"Thinking\"):\n",
    "            agent_text = st.session_state[\"assistant\"].ask(user_text)\n",
    "\n",
    "        st.session_state[\"messages\"].append((user_text, True))\n",
    "        st.session_state[\"messages\"].append((agent_text, False))\n",
    "\n",
    "# pdf 업로드시 저장\n",
    "def read_and_save_file():\n",
    "    st.session_state[\"assistant\"].clear()\n",
    "    st.session_state[\"messages\"] = []\n",
    "    st.session_state[\"user_input\"] = \"\"\n",
    "\n",
    "    for file in st.session_state[\"file_uploader\"]:\n",
    "        with tempfile.NamedTemporaryFile(delete=False) as tf:\n",
    "            tf.write(file.getbuffer())\n",
    "            file_path = tf.name\n",
    "\n",
    "        with st.session_state[\"ingestion_spinner\"], st.spinner(f\"Ingesting {file.name}\"):\n",
    "            st.session_state[\"assistant\"].ingest(file_path)\n",
    "        os.remove(file_path)\n",
    "\n",
    "\n",
    "def page():\n",
    "    if len(st.session_state) == 0:\n",
    "        st.session_state[\"messages\"] = []\n",
    "        st.session_state[\"assistant\"] = ChatPDF()\n",
    "\n",
    "\n",
    "    st.header(\"ChatPDF\")\n",
    "\n",
    "    st.subheader(\"Upload a document\")\n",
    "    st.file_uploader(\n",
    "        \"Upload document\",\n",
    "        type=[\"pdf\"],\n",
    "        key=\"file_uploader\",\n",
    "        on_change=read_and_save_file,\n",
    "        label_visibility=\"collapsed\",\n",
    "        accept_multiple_files=True,\n",
    "    )\n",
    "\n",
    "    st.session_state[\"ingestion_spinner\"] = st.empty()\n",
    "\n",
    "    display_messages()\n",
    "    st.text_input(\"Message\", key=\"user_input\", on_change=process_input)\n",
    "\n",
    "    \n",
    "if __name__ == \"__main__\":\n",
    "    page()\n",
    "    print(\"a\")"
   ]
  },
  {
   "cell_type": "code",
   "execution_count": 8,
   "metadata": {},
   "outputs": [
    {
     "ename": "FileNotFoundError",
     "evalue": "[Errno 2] No such file or directory: '${PWD}/logs.txt'",
     "output_type": "error",
     "traceback": [
      "\u001b[0;31m---------------------------------------------------------------------------\u001b[0m",
      "\u001b[0;31mFileNotFoundError\u001b[0m                         Traceback (most recent call last)",
      "Cell \u001b[0;32mIn[8], line 10\u001b[0m\n\u001b[1;32m      7\u001b[0m \u001b[38;5;28;01mimport\u001b[39;00m \u001b[38;5;21;01msubprocess\u001b[39;00m\n\u001b[1;32m      9\u001b[0m \u001b[38;5;66;03m# Streamlit 실행\u001b[39;00m\n\u001b[0;32m---> 10\u001b[0m subprocess\u001b[38;5;241m.\u001b[39mPopen([\u001b[38;5;124m\"\u001b[39m\u001b[38;5;124mstreamlit\u001b[39m\u001b[38;5;124m\"\u001b[39m, \u001b[38;5;124m\"\u001b[39m\u001b[38;5;124mrun\u001b[39m\u001b[38;5;124m\"\u001b[39m, \u001b[38;5;124m\"\u001b[39m\u001b[38;5;124m$\u001b[39m\u001b[38;5;132;01m{PWD}\u001b[39;00m\u001b[38;5;124m/app.py\u001b[39m\u001b[38;5;124m\"\u001b[39m], stdout\u001b[38;5;241m=\u001b[39m\u001b[38;5;28;43mopen\u001b[39;49m\u001b[43m(\u001b[49m\u001b[38;5;124;43m\"\u001b[39;49m\u001b[38;5;124;43m$\u001b[39;49m\u001b[38;5;132;43;01m{PWD}\u001b[39;49;00m\u001b[38;5;124;43m/logs.txt\u001b[39;49m\u001b[38;5;124;43m\"\u001b[39;49m\u001b[43m,\u001b[49m\u001b[43m \u001b[49m\u001b[38;5;124;43m\"\u001b[39;49m\u001b[38;5;124;43mw\u001b[39;49m\u001b[38;5;124;43m\"\u001b[39;49m\u001b[43m)\u001b[49m, stderr\u001b[38;5;241m=\u001b[39msubprocess\u001b[38;5;241m.\u001b[39mSTDOUT)\n\u001b[1;32m     12\u001b[0m \u001b[38;5;66;03m# LocalTunnel 실행\u001b[39;00m\n\u001b[1;32m     13\u001b[0m subprocess\u001b[38;5;241m.\u001b[39mrun([\u001b[38;5;124m\"\u001b[39m\u001b[38;5;124mnpx\u001b[39m\u001b[38;5;124m\"\u001b[39m, \u001b[38;5;124m\"\u001b[39m\u001b[38;5;124mlocaltunnel\u001b[39m\u001b[38;5;124m\"\u001b[39m, \u001b[38;5;124m\"\u001b[39m\u001b[38;5;124m--port\u001b[39m\u001b[38;5;124m\"\u001b[39m, \u001b[38;5;124m\"\u001b[39m\u001b[38;5;124m8501\u001b[39m\u001b[38;5;124m\"\u001b[39m])\n",
      "File \u001b[0;32m~/Library/Mobile Documents/iCloud~md~obsidian/Documents/til/TIL/AI/slm_practice/.venv/lib/python3.12/site-packages/IPython/core/interactiveshell.py:310\u001b[0m, in \u001b[0;36m_modified_open\u001b[0;34m(file, *args, **kwargs)\u001b[0m\n\u001b[1;32m    303\u001b[0m \u001b[38;5;28;01mif\u001b[39;00m file \u001b[38;5;129;01min\u001b[39;00m {\u001b[38;5;241m0\u001b[39m, \u001b[38;5;241m1\u001b[39m, \u001b[38;5;241m2\u001b[39m}:\n\u001b[1;32m    304\u001b[0m     \u001b[38;5;28;01mraise\u001b[39;00m \u001b[38;5;167;01mValueError\u001b[39;00m(\n\u001b[1;32m    305\u001b[0m         \u001b[38;5;124mf\u001b[39m\u001b[38;5;124m\"\u001b[39m\u001b[38;5;124mIPython won\u001b[39m\u001b[38;5;124m'\u001b[39m\u001b[38;5;124mt let you open fd=\u001b[39m\u001b[38;5;132;01m{\u001b[39;00mfile\u001b[38;5;132;01m}\u001b[39;00m\u001b[38;5;124m by default \u001b[39m\u001b[38;5;124m\"\u001b[39m\n\u001b[1;32m    306\u001b[0m         \u001b[38;5;124m\"\u001b[39m\u001b[38;5;124mas it is likely to crash IPython. If you know what you are doing, \u001b[39m\u001b[38;5;124m\"\u001b[39m\n\u001b[1;32m    307\u001b[0m         \u001b[38;5;124m\"\u001b[39m\u001b[38;5;124myou can use builtins\u001b[39m\u001b[38;5;124m'\u001b[39m\u001b[38;5;124m open.\u001b[39m\u001b[38;5;124m\"\u001b[39m\n\u001b[1;32m    308\u001b[0m     )\n\u001b[0;32m--> 310\u001b[0m \u001b[38;5;28;01mreturn\u001b[39;00m \u001b[43mio_open\u001b[49m\u001b[43m(\u001b[49m\u001b[43mfile\u001b[49m\u001b[43m,\u001b[49m\u001b[43m \u001b[49m\u001b[38;5;241;43m*\u001b[39;49m\u001b[43margs\u001b[49m\u001b[43m,\u001b[49m\u001b[43m \u001b[49m\u001b[38;5;241;43m*\u001b[39;49m\u001b[38;5;241;43m*\u001b[39;49m\u001b[43mkwargs\u001b[49m\u001b[43m)\u001b[49m\n",
      "\u001b[0;31mFileNotFoundError\u001b[0m: [Errno 2] No such file or directory: '${PWD}/logs.txt'"
     ]
    }
   ],
   "source": [
    "# 윈도우\n",
    "# !streamlit run /content/app.py &>/content/logs.txt &\n",
    "# !npx localtunnel --port 8501\n",
    "\n",
    "# 맥 - 터미널\n",
    "# 생성된 logs.txt에서 externalURL 34.169.66.99를 복사해서 tunnel website에 password에 입력한다.\n",
    "streamlit run ${PWD}/app.py &> ${PWD}/logs.txt &\n",
    "npx localtunnel --port 8501"
   ]
  }
 ],
 "metadata": {
  "kernelspec": {
   "display_name": ".venv",
   "language": "python",
   "name": "python3"
  },
  "language_info": {
   "codemirror_mode": {
    "name": "ipython",
    "version": 3
   },
   "file_extension": ".py",
   "mimetype": "text/x-python",
   "name": "python",
   "nbconvert_exporter": "python",
   "pygments_lexer": "ipython3",
   "version": "3.12.5"
  }
 },
 "nbformat": 4,
 "nbformat_minor": 2
}
