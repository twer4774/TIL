{
 "cells": [
  {
   "cell_type": "code",
   "execution_count": null,
   "metadata": {},
   "outputs": [],
   "source": [
    "!pip install langchain"
   ]
  },
  {
   "cell_type": "code",
   "execution_count": null,
   "metadata": {},
   "outputs": [],
   "source": [
    "# openai 설치\n",
    "!pip install -qU langchain-openai"
   ]
  },
  {
   "cell_type": "code",
   "execution_count": 15,
   "metadata": {},
   "outputs": [],
   "source": [
    "import getpass\n",
    "import os\n",
    "\n",
    "os.environ[\"OPENAI_API_KEY\"]\n",
    "from langchain_openai import ChatOpenAI\n",
    "\n",
    "model = ChatOpenAI(model=\"gpt-3.5-turbo\")"
   ]
  },
  {
   "cell_type": "code",
   "execution_count": null,
   "metadata": {},
   "outputs": [],
   "source": [
    "from langchain_core.messages import HumanMessage, SystemMessage\n",
    "\n",
    "messages = [\n",
    "    SystemMessage(content=\"Translate the follwing from English into Italian\"),\n",
    "    HumanMessage(content=\"hi!\"),\n",
    "]\n",
    "model.invoke(messages)"
   ]
  },
  {
   "cell_type": "code",
   "execution_count": null,
   "metadata": {},
   "outputs": [],
   "source": [
    "# OutputParsers - 사람에게 필요한 데이터만 반환\n",
    "\n",
    "from langchain_core.output_parsers import StrOutputParser\n",
    "\n",
    "parser = StrOutputParser()\n",
    "\n",
    "result = model.invoke(messages)\n",
    "parser.invoke(result)"
   ]
  },
  {
   "cell_type": "code",
   "execution_count": null,
   "metadata": {},
   "outputs": [],
   "source": [
    " # Prompt Templates\n",
    "from langchain_core.prompts import ChatPromptTemplate\n",
    "\n",
    "system_template = \"Translate the following into {language}:\"\n",
    "\n",
    "prompt_template = ChatPromptTemplate.from_messages(\n",
    "    [(\"system\", system_template), (\"user\", \"{text}\")]\n",
    ")\n",
    "\n",
    "result = prompt_template.inovke({\"language\": \"italian\", \"text\": \"hi\"})\n",
    "result\n",
    "\n",
    "result.to_messages()"
   ]
  },
  {
   "cell_type": "code",
   "execution_count": null,
   "metadata": {},
   "outputs": [],
   "source": [
    "!pip install langchain langchain-chroma langchain-openai"
   ]
  },
  {
   "cell_type": "code",
   "execution_count": 9,
   "metadata": {},
   "outputs": [],
   "source": [
    "from langchain_core.documents import Document\n",
    "\n",
    "documents = [\n",
    "   Document (\n",
    "        page_content=\"Dogs are great companions, known for their loyalty and friendliness.\",\n",
    "        metadata={\"source\": \"mammal-pets-doc\"},\n",
    "    ),\n",
    "    Document (\n",
    "        page_content=\"Cats are independent pets that often enjoy their own space.\",\n",
    "        metadata={\"source\": \"mammal-pets-doc\"},\n",
    "    ),\n",
    "    Document (\n",
    "        page_content=\"Goldfish are popular pets for beginners, requiring relatively simple care.\",\n",
    "        metadata={\"source\": \"fish-pets-doc\"},\n",
    "    ),\n",
    "    Document (\n",
    "        page_content=\"Parrots are intelligent birds capable of mimicking human speech.\",\n",
    "        metadata={\"source\": \"bird-pets-doc\"},\n",
    "    ),\n",
    "    Document (\n",
    "        page_content=\"Rabbits are social animals that need plenty of space to hop around.\",\n",
    "        metadata={\"source\": \"mammal-pets-doc\"},\n",
    "    )\n",
    "]"
   ]
  },
  {
   "cell_type": "code",
   "execution_count": null,
   "metadata": {},
   "outputs": [],
   "source": [
    "# Vectorstore\n",
    "\n",
    "from langchain_chroma import Chroma\n",
    "from langchain_openai import OpenAIEmbeddings\n",
    "\n",
    "vectorstore = Chroma.from_documents(\n",
    "    documents,\n",
    "    embedding=OpenAIEmbeddings(),\n",
    ")"
   ]
  },
  {
   "cell_type": "code",
   "execution_count": null,
   "metadata": {},
   "outputs": [],
   "source": [
    "vectorstore.similarity_search(\"cat\")"
   ]
  },
  {
   "cell_type": "code",
   "execution_count": null,
   "metadata": {},
   "outputs": [],
   "source": [
    "# async\n",
    "await vectorstore.asimilarity_search(\"cat\")"
   ]
  },
  {
   "cell_type": "code",
   "execution_count": null,
   "metadata": {},
   "outputs": [],
   "source": [
    "# score로 유사도 검사\n",
    "vectorstore.similarity_search_with_score(\"cat\")"
   ]
  },
  {
   "cell_type": "code",
   "execution_count": null,
   "metadata": {},
   "outputs": [],
   "source": [
    "# 사용자 쿼리의 유사도 검사\n",
    "embedding = OpenAIEmbeddings().embed_query(\"cat\")\n",
    "\n",
    "vectorstore.similarity_search_by_vector(embedding)"
   ]
  },
  {
   "cell_type": "code",
   "execution_count": null,
   "metadata": {},
   "outputs": [],
   "source": [
    "# Retrievers\n",
    "from typing import List\n",
    "from langchain_core.documents import Document\n",
    "from langchain_core.runnables import RunnableLambda\n",
    "\n",
    "retriever = RunnableLambda(vectorstore.similarity_search).bind(k=1) # 가장 위의 값\n",
    "# 위의 방식과 동일\n",
    "# retriever = vectorstore.as_retriever(\n",
    "#     search_type=\"similarity\",\n",
    "#     search_kwargs={\"k\": 1},\n",
    "# )\n",
    "\n",
    "# 여러 키워드 검색\n",
    "retriever.batch([\"cat\", \"shark\"])"
   ]
  },
  {
   "cell_type": "code",
   "execution_count": 22,
   "metadata": {},
   "outputs": [
    {
     "data": {
      "text/plain": [
       "'Cats are independent pets that often enjoy their own space.'"
      ]
     },
     "execution_count": 22,
     "metadata": {},
     "output_type": "execute_result"
    }
   ],
   "source": [
    "from langchain_core.prompts import ChatPromptTemplate\n",
    "from langchain_core.runnables import RunnablePassthrough\n",
    "import getpass\n",
    "import os\n",
    "from langchain_openai import ChatOpenAI\n",
    "from typing import List\n",
    "from langchain_core.documents import Document\n",
    "from langchain_core.runnables import RunnableLambda\n",
    "from dotenv import load_dotenv\n",
    "\n",
    "load_dotenv()\n",
    "\n",
    "llm = ChatOpenAI(model=\"gpt-3.5-turbo\")\n",
    "\n",
    "vectorstore = Chroma.from_documents(\n",
    "    documents,\n",
    "    embedding=OpenAIEmbeddings(),\n",
    ")\n",
    "\n",
    "retriever = vectorstore.as_retriever(\n",
    "    search_type=\"similarity\",\n",
    "    search_kwargs={\"k\": 1},\n",
    ")\n",
    "\n",
    "message = \"\"\"\n",
    "Answer this question using the provieded context only.\n",
    "\n",
    "{question}\n",
    "\n",
    "Context:\n",
    "{context}\n",
    "\"\"\"\n",
    "\n",
    "prompt = ChatPromptTemplate.from_messages([(\"human\", message)])\n",
    "\n",
    "rag_chain = {\"context\": retriever, \"question\": RunnablePassthrough()} | prompt | llm\n",
    "\n",
    "response = rag_chain.invoke(\"tell me about cats\")\n",
    "\n",
    "response.content"
   ]
  },
  {
   "cell_type": "markdown",
   "metadata": {},
   "source": [
    "Tavily - key  발급 필요\n",
    "- LLM과 RAG 시스템에 최적화된 검색엔진\n",
    "- AI 최적화 : LLM과 원활한 통합을 위해 설계\n",
    "- 최신 정보 : 실시간으로 업데이트되는 정보 제공\n",
    "- 다양한 검색 모드 : 일반검색, 뉴스검색, 이미지 검색\n",
    "- 콘텐츠 필터링 : 신뢰할 수 있는 소스의 정보만 제공\n",
    "- 무료 사용량 : 월 1,000회 API 호출 제공"
   ]
  },
  {
   "cell_type": "code",
   "execution_count": 23,
   "metadata": {},
   "outputs": [
    {
     "name": "stdout",
     "output_type": "stream",
     "text": [
      "Collecting langchain-community\n",
      "  Downloading langchain_community-0.3.13-py3-none-any.whl.metadata (2.9 kB)\n",
      "Collecting langgraph\n",
      "  Downloading langgraph-0.2.60-py3-none-any.whl.metadata (15 kB)\n",
      "Collecting langchain-anthropic\n",
      "  Downloading langchain_anthropic-0.3.1-py3-none-any.whl.metadata (2.3 kB)\n",
      "Collecting tavily-python\n",
      "  Downloading tavily_python-0.5.0-py3-none-any.whl.metadata (11 kB)\n",
      "Requirement already satisfied: PyYAML>=5.3 in /Users/wonik/.pyenv/versions/3.12.5/lib/python3.12/site-packages (from langchain-community) (6.0.2)\n",
      "Requirement already satisfied: SQLAlchemy<3,>=1.4 in /Users/wonik/.pyenv/versions/3.12.5/lib/python3.12/site-packages (from langchain-community) (2.0.36)\n",
      "Requirement already satisfied: aiohttp<4.0.0,>=3.8.3 in /Users/wonik/.pyenv/versions/3.12.5/lib/python3.12/site-packages (from langchain-community) (3.11.11)\n",
      "Collecting dataclasses-json<0.7,>=0.5.7 (from langchain-community)\n",
      "  Downloading dataclasses_json-0.6.7-py3-none-any.whl.metadata (25 kB)\n",
      "Collecting httpx-sse<0.5.0,>=0.4.0 (from langchain-community)\n",
      "  Downloading httpx_sse-0.4.0-py3-none-any.whl.metadata (9.0 kB)\n",
      "Requirement already satisfied: langchain<0.4.0,>=0.3.13 in /Users/wonik/.pyenv/versions/3.12.5/lib/python3.12/site-packages (from langchain-community) (0.3.13)\n",
      "Requirement already satisfied: langchain-core<0.4.0,>=0.3.27 in /Users/wonik/.pyenv/versions/3.12.5/lib/python3.12/site-packages (from langchain-community) (0.3.28)\n",
      "Requirement already satisfied: langsmith<0.3,>=0.1.125 in /Users/wonik/.pyenv/versions/3.12.5/lib/python3.12/site-packages (from langchain-community) (0.2.6)\n",
      "Requirement already satisfied: numpy<3,>=1.26.2 in /Users/wonik/.pyenv/versions/3.12.5/lib/python3.12/site-packages (from langchain-community) (1.26.4)\n",
      "Collecting pydantic-settings<3.0.0,>=2.4.0 (from langchain-community)\n",
      "  Using cached pydantic_settings-2.7.0-py3-none-any.whl.metadata (3.5 kB)\n",
      "Requirement already satisfied: requests<3,>=2 in /Users/wonik/.pyenv/versions/3.12.5/lib/python3.12/site-packages (from langchain-community) (2.32.3)\n",
      "Requirement already satisfied: tenacity!=8.4.0,<10,>=8.1.0 in /Users/wonik/.pyenv/versions/3.12.5/lib/python3.12/site-packages (from langchain-community) (9.0.0)\n",
      "Collecting langgraph-checkpoint<3.0.0,>=2.0.4 (from langgraph)\n",
      "  Downloading langgraph_checkpoint-2.0.9-py3-none-any.whl.metadata (4.6 kB)\n",
      "Collecting langgraph-sdk<0.2.0,>=0.1.42 (from langgraph)\n",
      "  Downloading langgraph_sdk-0.1.48-py3-none-any.whl.metadata (1.8 kB)\n",
      "Collecting anthropic<1,>=0.41.0 (from langchain-anthropic)\n",
      "  Downloading anthropic-0.42.0-py3-none-any.whl.metadata (23 kB)\n",
      "Collecting defusedxml<0.8.0,>=0.7.1 (from langchain-anthropic)\n",
      "  Downloading defusedxml-0.7.1-py2.py3-none-any.whl.metadata (32 kB)\n",
      "Requirement already satisfied: pydantic<3.0.0,>=2.7.4 in /Users/wonik/.pyenv/versions/3.12.5/lib/python3.12/site-packages (from langchain-anthropic) (2.10.4)\n",
      "Requirement already satisfied: tiktoken>=0.5.1 in /Users/wonik/.pyenv/versions/3.12.5/lib/python3.12/site-packages (from tavily-python) (0.8.0)\n",
      "Requirement already satisfied: httpx in /Users/wonik/.pyenv/versions/3.12.5/lib/python3.12/site-packages (from tavily-python) (0.28.1)\n",
      "Requirement already satisfied: aiohappyeyeballs>=2.3.0 in /Users/wonik/.pyenv/versions/3.12.5/lib/python3.12/site-packages (from aiohttp<4.0.0,>=3.8.3->langchain-community) (2.4.4)\n",
      "Requirement already satisfied: aiosignal>=1.1.2 in /Users/wonik/.pyenv/versions/3.12.5/lib/python3.12/site-packages (from aiohttp<4.0.0,>=3.8.3->langchain-community) (1.3.2)\n",
      "Requirement already satisfied: attrs>=17.3.0 in /Users/wonik/.pyenv/versions/3.12.5/lib/python3.12/site-packages (from aiohttp<4.0.0,>=3.8.3->langchain-community) (24.3.0)\n",
      "Requirement already satisfied: frozenlist>=1.1.1 in /Users/wonik/.pyenv/versions/3.12.5/lib/python3.12/site-packages (from aiohttp<4.0.0,>=3.8.3->langchain-community) (1.5.0)\n",
      "Requirement already satisfied: multidict<7.0,>=4.5 in /Users/wonik/.pyenv/versions/3.12.5/lib/python3.12/site-packages (from aiohttp<4.0.0,>=3.8.3->langchain-community) (6.1.0)\n",
      "Requirement already satisfied: propcache>=0.2.0 in /Users/wonik/.pyenv/versions/3.12.5/lib/python3.12/site-packages (from aiohttp<4.0.0,>=3.8.3->langchain-community) (0.2.1)\n",
      "Requirement already satisfied: yarl<2.0,>=1.17.0 in /Users/wonik/.pyenv/versions/3.12.5/lib/python3.12/site-packages (from aiohttp<4.0.0,>=3.8.3->langchain-community) (1.18.3)\n",
      "Requirement already satisfied: anyio<5,>=3.5.0 in /Users/wonik/.pyenv/versions/3.12.5/lib/python3.12/site-packages (from anthropic<1,>=0.41.0->langchain-anthropic) (4.7.0)\n",
      "Requirement already satisfied: distro<2,>=1.7.0 in /Users/wonik/.pyenv/versions/3.12.5/lib/python3.12/site-packages (from anthropic<1,>=0.41.0->langchain-anthropic) (1.9.0)\n",
      "Requirement already satisfied: jiter<1,>=0.4.0 in /Users/wonik/.pyenv/versions/3.12.5/lib/python3.12/site-packages (from anthropic<1,>=0.41.0->langchain-anthropic) (0.8.2)\n",
      "Requirement already satisfied: sniffio in /Users/wonik/.pyenv/versions/3.12.5/lib/python3.12/site-packages (from anthropic<1,>=0.41.0->langchain-anthropic) (1.3.1)\n",
      "Requirement already satisfied: typing-extensions<5,>=4.10 in /Users/wonik/.pyenv/versions/3.12.5/lib/python3.12/site-packages (from anthropic<1,>=0.41.0->langchain-anthropic) (4.12.2)\n",
      "Collecting marshmallow<4.0.0,>=3.18.0 (from dataclasses-json<0.7,>=0.5.7->langchain-community)\n",
      "  Downloading marshmallow-3.23.2-py3-none-any.whl.metadata (7.1 kB)\n",
      "Collecting typing-inspect<1,>=0.4.0 (from dataclasses-json<0.7,>=0.5.7->langchain-community)\n",
      "  Downloading typing_inspect-0.9.0-py3-none-any.whl.metadata (1.5 kB)\n",
      "Requirement already satisfied: certifi in /Users/wonik/.pyenv/versions/3.12.5/lib/python3.12/site-packages (from httpx->tavily-python) (2024.12.14)\n",
      "Requirement already satisfied: httpcore==1.* in /Users/wonik/.pyenv/versions/3.12.5/lib/python3.12/site-packages (from httpx->tavily-python) (1.0.7)\n",
      "Requirement already satisfied: idna in /Users/wonik/.pyenv/versions/3.12.5/lib/python3.12/site-packages (from httpx->tavily-python) (3.10)\n",
      "Requirement already satisfied: h11<0.15,>=0.13 in /Users/wonik/.pyenv/versions/3.12.5/lib/python3.12/site-packages (from httpcore==1.*->httpx->tavily-python) (0.14.0)\n",
      "Requirement already satisfied: langchain-text-splitters<0.4.0,>=0.3.3 in /Users/wonik/.pyenv/versions/3.12.5/lib/python3.12/site-packages (from langchain<0.4.0,>=0.3.13->langchain-community) (0.3.4)\n",
      "Requirement already satisfied: jsonpatch<2.0,>=1.33 in /Users/wonik/.pyenv/versions/3.12.5/lib/python3.12/site-packages (from langchain-core<0.4.0,>=0.3.27->langchain-community) (1.33)\n",
      "Requirement already satisfied: packaging<25,>=23.2 in /Users/wonik/.pyenv/versions/3.12.5/lib/python3.12/site-packages (from langchain-core<0.4.0,>=0.3.27->langchain-community) (24.2)\n",
      "Collecting msgpack<2.0.0,>=1.1.0 (from langgraph-checkpoint<3.0.0,>=2.0.4->langgraph)\n",
      "  Downloading msgpack-1.1.0-cp312-cp312-macosx_11_0_arm64.whl.metadata (8.4 kB)\n",
      "Requirement already satisfied: orjson>=3.10.1 in /Users/wonik/.pyenv/versions/3.12.5/lib/python3.12/site-packages (from langgraph-sdk<0.2.0,>=0.1.42->langgraph) (3.10.12)\n",
      "Requirement already satisfied: requests-toolbelt<2.0.0,>=1.0.0 in /Users/wonik/.pyenv/versions/3.12.5/lib/python3.12/site-packages (from langsmith<0.3,>=0.1.125->langchain-community) (1.0.0)\n",
      "Requirement already satisfied: annotated-types>=0.6.0 in /Users/wonik/.pyenv/versions/3.12.5/lib/python3.12/site-packages (from pydantic<3.0.0,>=2.7.4->langchain-anthropic) (0.7.0)\n",
      "Requirement already satisfied: pydantic-core==2.27.2 in /Users/wonik/.pyenv/versions/3.12.5/lib/python3.12/site-packages (from pydantic<3.0.0,>=2.7.4->langchain-anthropic) (2.27.2)\n",
      "Requirement already satisfied: python-dotenv>=0.21.0 in /Users/wonik/.pyenv/versions/3.12.5/lib/python3.12/site-packages (from pydantic-settings<3.0.0,>=2.4.0->langchain-community) (1.0.1)\n",
      "Requirement already satisfied: charset-normalizer<4,>=2 in /Users/wonik/.pyenv/versions/3.12.5/lib/python3.12/site-packages (from requests<3,>=2->langchain-community) (3.4.1)\n",
      "Requirement already satisfied: urllib3<3,>=1.21.1 in /Users/wonik/.pyenv/versions/3.12.5/lib/python3.12/site-packages (from requests<3,>=2->langchain-community) (2.3.0)\n",
      "Requirement already satisfied: regex>=2022.1.18 in /Users/wonik/.pyenv/versions/3.12.5/lib/python3.12/site-packages (from tiktoken>=0.5.1->tavily-python) (2024.11.6)\n",
      "Requirement already satisfied: jsonpointer>=1.9 in /Users/wonik/.pyenv/versions/3.12.5/lib/python3.12/site-packages (from jsonpatch<2.0,>=1.33->langchain-core<0.4.0,>=0.3.27->langchain-community) (3.0.0)\n",
      "Collecting mypy-extensions>=0.3.0 (from typing-inspect<1,>=0.4.0->dataclasses-json<0.7,>=0.5.7->langchain-community)\n",
      "  Using cached mypy_extensions-1.0.0-py3-none-any.whl.metadata (1.1 kB)\n",
      "Downloading langchain_community-0.3.13-py3-none-any.whl (2.5 MB)\n",
      "\u001b[2K   \u001b[90m━━━━━━━━━━━━━━━━━━━━━━━━━━━━━━━━━━━━━━━━\u001b[0m \u001b[32m2.5/2.5 MB\u001b[0m \u001b[31m31.9 MB/s\u001b[0m eta \u001b[36m0:00:00\u001b[0m\n",
      "\u001b[?25hDownloading langgraph-0.2.60-py3-none-any.whl (135 kB)\n",
      "Downloading langchain_anthropic-0.3.1-py3-none-any.whl (22 kB)\n",
      "Downloading tavily_python-0.5.0-py3-none-any.whl (14 kB)\n",
      "Downloading anthropic-0.42.0-py3-none-any.whl (203 kB)\n",
      "Downloading dataclasses_json-0.6.7-py3-none-any.whl (28 kB)\n",
      "Downloading defusedxml-0.7.1-py2.py3-none-any.whl (25 kB)\n",
      "Downloading httpx_sse-0.4.0-py3-none-any.whl (7.8 kB)\n",
      "Downloading langgraph_checkpoint-2.0.9-py3-none-any.whl (37 kB)\n",
      "Downloading langgraph_sdk-0.1.48-py3-none-any.whl (43 kB)\n",
      "Using cached pydantic_settings-2.7.0-py3-none-any.whl (29 kB)\n",
      "Downloading marshmallow-3.23.2-py3-none-any.whl (49 kB)\n",
      "Downloading msgpack-1.1.0-cp312-cp312-macosx_11_0_arm64.whl (82 kB)\n",
      "Downloading typing_inspect-0.9.0-py3-none-any.whl (8.8 kB)\n",
      "Using cached mypy_extensions-1.0.0-py3-none-any.whl (4.7 kB)\n",
      "Installing collected packages: mypy-extensions, msgpack, marshmallow, httpx-sse, defusedxml, typing-inspect, tavily-python, pydantic-settings, langgraph-sdk, dataclasses-json, anthropic, langgraph-checkpoint, langchain-anthropic, langgraph, langchain-community\n",
      "Successfully installed anthropic-0.42.0 dataclasses-json-0.6.7 defusedxml-0.7.1 httpx-sse-0.4.0 langchain-anthropic-0.3.1 langchain-community-0.3.13 langgraph-0.2.60 langgraph-checkpoint-2.0.9 langgraph-sdk-0.1.48 marshmallow-3.23.2 msgpack-1.1.0 mypy-extensions-1.0.0 pydantic-settings-2.7.0 tavily-python-0.5.0 typing-inspect-0.9.0\n",
      "\n",
      "\u001b[1m[\u001b[0m\u001b[34;49mnotice\u001b[0m\u001b[1;39;49m]\u001b[0m\u001b[39;49m A new release of pip is available: \u001b[0m\u001b[31;49m24.2\u001b[0m\u001b[39;49m -> \u001b[0m\u001b[32;49m24.3.1\u001b[0m\n",
      "\u001b[1m[\u001b[0m\u001b[34;49mnotice\u001b[0m\u001b[1;39;49m]\u001b[0m\u001b[39;49m To update, run: \u001b[0m\u001b[32;49mpip install --upgrade pip\u001b[0m\n",
      "Note: you may need to restart the kernel to use updated packages.\n"
     ]
    }
   ],
   "source": [
    "# Agent\n",
    "%pip install -U langchain-community langgraph langchain-anthropic tavily-python"
   ]
  },
  {
   "cell_type": "code",
   "execution_count": 24,
   "metadata": {},
   "outputs": [
    {
     "name": "stdout",
     "output_type": "stream",
     "text": [
      "[{'url': 'https://www.weatherapi.com/', 'content': \"{'location': {'name': 'San Francisco', 'region': 'California', 'country': 'United States of America', 'lat': 37.775, 'lon': -122.4183, 'tz_id': 'America/Los_Angeles', 'localtime_epoch': 1735181669, 'localtime': '2024-12-25 18:54'}, 'current': {'last_updated_epoch': 1735181100, 'last_updated': '2024-12-25 18:45', 'temp_c': 9.5, 'temp_f': 49.0, 'is_day': 0, 'condition': {'text': 'Fog', 'icon': '//cdn.weatherapi.com/weather/64x64/night/248.png', 'code': 1135}, 'wind_mph': 6.5, 'wind_kph': 10.4, 'wind_degree': 275, 'wind_dir': 'W', 'pressure_mb': 1023.0, 'pressure_in': 30.2, 'precip_mm': 0.0, 'precip_in': 0.0, 'humidity': 97, 'cloud': 100, 'feelslike_c': 8.9, 'feelslike_f': 48.0, 'windchill_c': 8.9, 'windchill_f': 48.0, 'heatindex_c': 9.5, 'heatindex_f': 49.0, 'dewpoint_c': 9.1, 'dewpoint_f': 48.4, 'vis_km': 10.0, 'vis_miles': 6.0, 'uv': 0.0, 'gust_mph': 9.4, 'gust_kph': 15.1}}\"}, {'url': 'https://weathershogun.com/weather/usa/ca/san-francisco/480/december/2024-12-26', 'content': \"Thursday, December 26, 2024. San Francisco, CA - Weather Forecast San Francisco, CA Home Contact Browse States Privacy Policy Terms and Conditions °F) °C) Today Tomorrow Hourly 7 days 30 days December San Francisco, California Weather: High Surf Advisory (Warning for dangerously high waves affecting beach and coastal safety) Thursday, December 26, 2024 Day 61° Night 55° Precipitation 69 % Wind 12 mph UV Index (0 - 11+) 1 Friday Hourly Today Tomorrow 7 days 30 days Weather Forecast History Last Year's Weather on This Day (December 26, 2023) Day 57° Night 50° Please note that while we strive for accuracy, the information provided may not always be correct. Use at your own risk. © Copyright by WeatherShogun.com\"}]\n"
     ]
    }
   ],
   "source": [
    "# Tavily로 실시간 날씨 정보 가져오기 \n",
    "from langchain_community.tools.tavily_search import TavilySearchResults\n",
    "import os\n",
    "from dotenv import load_dotenv\n",
    "\n",
    "load_dotenv()\n",
    "\n",
    "search = TavilySearchResults(max_results=2)\n",
    "search_results = search.invoke(\"what is the weather in SF\")\n",
    "print(search_results)\n",
    "\n",
    "tools = [search]\n"
   ]
  },
  {
   "cell_type": "code",
   "execution_count": 26,
   "metadata": {},
   "outputs": [
    {
     "data": {
      "text/plain": [
       "[HumanMessage(content=\"What's the weather in SF?\", additional_kwargs={}, response_metadata={}, id='e3685343-6b2f-4c62-8bb3-cb3dc1c6d266'),\n",
       " AIMessage(content='', additional_kwargs={'tool_calls': [{'id': 'call_LWHYXX2iz74N0mQrfIwiVDd2', 'function': {'arguments': '{\\n  \"query\": \"current weather in San Francisco\"\\n}', 'name': 'tavily_search_results_json'}, 'type': 'function'}], 'refusal': None}, response_metadata={'token_usage': {'completion_tokens': 24, 'prompt_tokens': 88, 'total_tokens': 112, 'completion_tokens_details': {'accepted_prediction_tokens': 0, 'audio_tokens': 0, 'reasoning_tokens': 0, 'rejected_prediction_tokens': 0}, 'prompt_tokens_details': {'audio_tokens': 0, 'cached_tokens': 0}}, 'model_name': 'gpt-4-0613', 'system_fingerprint': None, 'finish_reason': 'tool_calls', 'logprobs': None}, id='run-a66d64cb-3a1f-49a3-9499-5dc19934d4d1-0', tool_calls=[{'name': 'tavily_search_results_json', 'args': {'query': 'current weather in San Francisco'}, 'id': 'call_LWHYXX2iz74N0mQrfIwiVDd2', 'type': 'tool_call'}], usage_metadata={'input_tokens': 88, 'output_tokens': 24, 'total_tokens': 112, 'input_token_details': {'audio': 0, 'cache_read': 0}, 'output_token_details': {'audio': 0, 'reasoning': 0}}),\n",
       " ToolMessage(content='[{\"url\": \"https://www.weatherapi.com/\", \"content\": \"{\\'location\\': {\\'name\\': \\'San Francisco\\', \\'region\\': \\'California\\', \\'country\\': \\'United States of America\\', \\'lat\\': 37.775, \\'lon\\': -122.4183, \\'tz_id\\': \\'America/Los_Angeles\\', \\'localtime_epoch\\': 1735182309, \\'localtime\\': \\'2024-12-25 19:05\\'}, \\'current\\': {\\'last_updated_epoch\\': 1735182000, \\'last_updated\\': \\'2024-12-25 19:00\\', \\'temp_c\\': 9.4, \\'temp_f\\': 48.9, \\'is_day\\': 0, \\'condition\\': {\\'text\\': \\'Fog\\', \\'icon\\': \\'//cdn.weatherapi.com/weather/64x64/night/248.png\\', \\'code\\': 1135}, \\'wind_mph\\': 2.2, \\'wind_kph\\': 3.6, \\'wind_degree\\': 275, \\'wind_dir\\': \\'W\\', \\'pressure_mb\\': 1023.0, \\'pressure_in\\': 30.2, \\'precip_mm\\': 0.0, \\'precip_in\\': 0.0, \\'humidity\\': 98, \\'cloud\\': 100, \\'feelslike_c\\': 8.5, \\'feelslike_f\\': 47.4, \\'windchill_c\\': 8.5, \\'windchill_f\\': 47.4, \\'heatindex_c\\': 9.4, \\'heatindex_f\\': 48.9, \\'dewpoint_c\\': 9.1, \\'dewpoint_f\\': 48.4, \\'vis_km\\': 10.0, \\'vis_miles\\': 6.0, \\'uv\\': 0.0, \\'gust_mph\\': 3.4, \\'gust_kph\\': 5.4}}\"}, {\"url\": \"https://weathershogun.com/weather/usa/ca/san-francisco/480/december/2024-12-26\", \"content\": \"Thursday, December 26, 2024. San Francisco, CA - Weather Forecast San Francisco, CA Home Contact Browse States Privacy Policy Terms and Conditions °F) °C) Today Tomorrow Hourly 7 days 30 days December San Francisco, California Weather: High Surf Advisory (Warning for dangerously high waves affecting beach and coastal safety) Thursday, December 26, 2024 Day 61° Night 55° Precipitation 69 % Wind 12 mph UV Index (0 - 11+) 1 Friday Hourly Today Tomorrow 7 days 30 days Weather Forecast History Last Year\\'s Weather on This Day (December 26, 2023) Day 57° Night 50° Please note that while we strive for accuracy, the information provided may not always be correct. Use at your own risk. © Copyright by WeatherShogun.com\"}]', name='tavily_search_results_json', id='4fb9f324-49de-4cdd-9630-8722b9300c2e', tool_call_id='call_LWHYXX2iz74N0mQrfIwiVDd2', artifact={'query': 'current weather in San Francisco', 'follow_up_questions': None, 'answer': None, 'images': [], 'results': [{'title': 'Weather in San Francisco', 'url': 'https://www.weatherapi.com/', 'content': \"{'location': {'name': 'San Francisco', 'region': 'California', 'country': 'United States of America', 'lat': 37.775, 'lon': -122.4183, 'tz_id': 'America/Los_Angeles', 'localtime_epoch': 1735182309, 'localtime': '2024-12-25 19:05'}, 'current': {'last_updated_epoch': 1735182000, 'last_updated': '2024-12-25 19:00', 'temp_c': 9.4, 'temp_f': 48.9, 'is_day': 0, 'condition': {'text': 'Fog', 'icon': '//cdn.weatherapi.com/weather/64x64/night/248.png', 'code': 1135}, 'wind_mph': 2.2, 'wind_kph': 3.6, 'wind_degree': 275, 'wind_dir': 'W', 'pressure_mb': 1023.0, 'pressure_in': 30.2, 'precip_mm': 0.0, 'precip_in': 0.0, 'humidity': 98, 'cloud': 100, 'feelslike_c': 8.5, 'feelslike_f': 47.4, 'windchill_c': 8.5, 'windchill_f': 47.4, 'heatindex_c': 9.4, 'heatindex_f': 48.9, 'dewpoint_c': 9.1, 'dewpoint_f': 48.4, 'vis_km': 10.0, 'vis_miles': 6.0, 'uv': 0.0, 'gust_mph': 3.4, 'gust_kph': 5.4}}\", 'score': 0.9451179, 'raw_content': None}, {'title': 'Thursday, December 26, 2024. San Francisco, CA - Weather Forecast', 'url': 'https://weathershogun.com/weather/usa/ca/san-francisco/480/december/2024-12-26', 'content': \"Thursday, December 26, 2024. San Francisco, CA - Weather Forecast San Francisco, CA Home Contact Browse States Privacy Policy Terms and Conditions °F) °C) Today Tomorrow Hourly 7 days 30 days December San Francisco, California Weather: High Surf Advisory (Warning for dangerously high waves affecting beach and coastal safety) Thursday, December 26, 2024 Day 61° Night 55° Precipitation 69 % Wind 12 mph UV Index (0 - 11+) 1 Friday Hourly Today Tomorrow 7 days 30 days Weather Forecast History Last Year's Weather on This Day (December 26, 2023) Day 57° Night 50° Please note that while we strive for accuracy, the information provided may not always be correct. Use at your own risk. © Copyright by WeatherShogun.com\", 'score': 0.929036, 'raw_content': None}], 'response_time': 2.32}),\n",
       " AIMessage(content='The current weather in San Francisco, California is foggy with a temperature of 9.4°C (48.9°F). The wind is coming from the west at 3.6 kph (2.2 mph). The humidity is at 98% and the visibility is 10 km (6 miles). Please note that the weather conditions can change rapidly. Stay updated by checking a reliable weather source.', additional_kwargs={'refusal': None}, response_metadata={'token_usage': {'completion_tokens': 85, 'prompt_tokens': 743, 'total_tokens': 828, 'completion_tokens_details': {'accepted_prediction_tokens': 0, 'audio_tokens': 0, 'reasoning_tokens': 0, 'rejected_prediction_tokens': 0}, 'prompt_tokens_details': {'audio_tokens': 0, 'cached_tokens': 0}}, 'model_name': 'gpt-4-0613', 'system_fingerprint': None, 'finish_reason': 'stop', 'logprobs': None}, id='run-28492b43-1290-4747-b114-7e261ac4ec7f-0', usage_metadata={'input_tokens': 743, 'output_tokens': 85, 'total_tokens': 828, 'input_token_details': {'audio': 0, 'cache_read': 0}, 'output_token_details': {'audio': 0, 'reasoning': 0}})]"
      ]
     },
     "execution_count": 26,
     "metadata": {},
     "output_type": "execute_result"
    }
   ],
   "source": [
    "import getpass\n",
    "from dotenv import load_dotenv\n",
    "from langchain_openai import ChatOpenAI\n",
    "from langchain_core.messages import HumanMessage\n",
    "\n",
    "from langchain_community.tools.tavily_search import TavilySearchResults\n",
    "from langgraph.prebuilt import create_react_agent # agent \n",
    "\n",
    "\n",
    "\n",
    "load_dotenv()\n",
    "model = ChatOpenAI(model=\"gpt-4\")\n",
    "\n",
    "search = TavilySearchResults(max_results=2)\n",
    "tools = [search]\n",
    "\n",
    "\n",
    "# response = model.invoke([HumanMessage(content=\"hi!\")])\n",
    "# response.content\n",
    "model_with_tools = model.bind_tools(tools)\n",
    "\n",
    "# response = model_with_tools.invoke([HumanMessage(content=\"What's the weather in SF?\")])\n",
    "\n",
    "agent_executor = create_react_agent(model, tools)\n",
    "\n",
    "response = agent_executor.invoke({\"messages\": [HumanMessage(content=\"What's the weather in SF?\")]})\n",
    "response[\"messages\"]\n"
   ]
  }
 ],
 "metadata": {
  "kernelspec": {
   "display_name": "Python 3",
   "language": "python",
   "name": "python3"
  },
  "language_info": {
   "codemirror_mode": {
    "name": "ipython",
    "version": 3
   },
   "file_extension": ".py",
   "mimetype": "text/x-python",
   "name": "python",
   "nbconvert_exporter": "python",
   "pygments_lexer": "ipython3",
   "version": "3.12.5"
  }
 },
 "nbformat": 4,
 "nbformat_minor": 2
}
