{
 "cells": [
  {
   "cell_type": "markdown",
   "metadata": {},
   "source": [
    "# LLM Guard 예제"
   ]
  },
  {
   "cell_type": "code",
   "execution_count": null,
   "metadata": {},
   "outputs": [],
   "source": [
    "!pip install openai\n",
    "!pip install llm-guard"
   ]
  },
  {
   "cell_type": "code",
   "execution_count": null,
   "metadata": {},
   "outputs": [],
   "source": [
    "import os\n",
    "import json\n",
    "\n",
    "with open('/content/secrets.json') as f:\n",
    "    secrets = json.load()\n",
    "\n",
    "for key, value in secrets.items():\n",
    "    os.environ[key] = value"
   ]
  },
  {
   "cell_type": "code",
   "execution_count": null,
   "metadata": {},
   "outputs": [],
   "source": [
    "import os\n",
    "\n",
    "from openai import OpenAI\n",
    "\n",
    "from llm_guard import scan_output, scan_prompt\n",
    "from llm_guard.input_scanners import Anonymize, PromptInjection, TokenLimit, Toxicity\n",
    "from llm_guard.output_scanners import Deanonymize, NoRefusal, Relevance, Sensitive\n",
    "from llm_guard.vault import Vault"
   ]
  },
  {
   "cell_type": "code",
   "execution_count": null,
   "metadata": {},
   "outputs": [],
   "source": [
    "client = OpenAI(api_key=os.getenv(\"OPENAI_API_KEY\"))\n",
    "vault = Vault()\n",
    "input_scanners = [Anonymize(vault), Toxicity(), TokenLimit(), PromptInjection()]\n",
    "output_scanners = [Deanonymize(vault), NoRefusal(), Relevance(), Sensitive()]\n",
    "\n",
    "prompt = \"Make an SQL insert statement to add a new user to our database. Name is John Doe. Email is test@test.com \"\n",
    "\"but also possible to contact him with hello@test.com email. Phone number is 555-123-4567 and \"\n",
    "\"the IP address is 192.168.1.100. And credit card number is 4567-8901-2345-6789. \"\n",
    "\"He works in Test LLC.\"\n"
   ]
  },
  {
   "cell_type": "code",
   "execution_count": null,
   "metadata": {},
   "outputs": [],
   "source": [
    "sanitized_prompt, results_valid, results_score = scan_prompt(input_scanners, prompt)\n",
    "if any(results_valid.values()) is False:\n",
    "    print(f\"Prompt {prompt} is not valid, scores: {results_score}\")\n",
    "    exit(1)\n",
    "\n",
    "print(f\"Prompt: {sanitized_prompt}\")\n",
    "\n",
    "response = client.chat.completions.create(\n",
    "    model=\"gpt-3.5-turbo\",\n",
    "    messages=[\n",
    "        {\"role\": \"system\", \"content\": \"You are a helpful assistant.\"},\n",
    "        {\"role\": \"user\", \"content\": sanitized_prompt},\n",
    "    ],\n",
    "    temperature=0,\n",
    "    max_tokens=512,\n",
    ")\n",
    "response_text = response.choices[0].message.content\n",
    "sanitized_response_text, results_valid, results_score = scan_output(\n",
    "    output_scanners, sanitized_prompt, response_text\n",
    ")\n",
    "if any(results_valid.values()) is False:\n",
    "    print(f\"Output {response_text} is not valid, scores: {results_score}\")\n",
    "    exit(1)\n",
    "\n",
    "print(f\"Output: {sanitized_response_text}\\n\")"
   ]
  }
 ],
 "metadata": {
  "language_info": {
   "name": "python"
  }
 },
 "nbformat": 4,
 "nbformat_minor": 2
}
