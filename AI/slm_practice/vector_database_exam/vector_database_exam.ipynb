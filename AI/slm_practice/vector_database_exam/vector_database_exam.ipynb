{
 "cells": [
  {
   "cell_type": "code",
   "execution_count": null,
   "metadata": {},
   "outputs": [],
   "source": [
    "!pip install chromadb\n",
    "!pip install pandas"
   ]
  },
  {
   "cell_type": "code",
   "execution_count": null,
   "metadata": {},
   "outputs": [],
   "source": [
    "import chromadb\n",
    "import pandas as pd\n",
    "from tqdm import tqdm\n",
    "\n",
    "chroma_client = chromadb.Client()\n",
    "# collection = chroma_client.create_collection(name=\"my_collection\")\n",
    "collection = chroma_client.get_or_create_collection(name=\"my_collection\")\n",
    "\n",
    "df = pd.read_csv('./naver-news-summarization-ko/test_10row.csv', encoding='cp949')\n",
    "                \n",
    "df.sample(5)\n"
   ]
  },
  {
   "cell_type": "code",
   "execution_count": null,
   "metadata": {},
   "outputs": [],
   "source": [
    "!pip install sentence_transformers"
   ]
  },
  {
   "cell_type": "code",
   "execution_count": null,
   "metadata": {},
   "outputs": [],
   "source": [
    "from sentence_transformers import SentenceTransformer\n",
    "model = SentenceTransformer('snunlp/KR-SBERT-V40K-KlueNLI-augSTS')\n",
    "\n",
    "# 데이터 넣기\n",
    "ids = []\n",
    "metadatas = []\n",
    "embeddings = []\n",
    "\n",
    "# date category press title document link summary\n",
    "\n",
    "for row in tqdm(df.iterrows()) :\n",
    "    index = row[0]\n",
    "    query = row[1].title\n",
    "    answer = row[1].summary\n",
    "\n",
    "    metadata = {\n",
    "        \"query\": query,\n",
    "        \"answer\": answer\n",
    "    }\n",
    "\n",
    "    embedding = model.encode(query, normalize_embeddings=True)\n",
    "\n",
    "    ids.append(str(index))\n",
    "    metadatas.append(metadata)\n",
    "    embeddings.append(embedding)\n",
    "\n",
    "chunk_size = 1024 # 한 번에 처리할 chunk 크기 설정\n",
    "total_chunks = len(embeddings) // chunk_size + 1 # 전체 데이터를 chunk 단위로 나눈 횟수\n",
    "embeddings = [ e.tolist() for e in tqdm(embeddings) ]\n",
    "\n",
    "for chunk_idx in tqdm(range(total_chunks)):\n",
    "    start_idx = chunk_idx * chunk_size\n",
    "    end_idx = (chunk_idx + 1) * chunk_size\n",
    "\n",
    "    # chunk 단위로 데이터 자르기\n",
    "    chunk_embeddings = embeddings[start_idx:end_idx]\n",
    "    chunk_ids = ids[start_idx:end_idx]\n",
    "    chunk_metadatas = metadatas[start_idx:end_idx]\n",
    "    \n",
    "    # chunk를 answers에 추가\n",
    "    collection.add(embeddings=chunk_embeddings, ids=chunk_ids,metadatas=chunk_metadatas)\n",
    "\n",
    "\n",
    "# 검색\n",
    "result = collection.query(\n",
    "    query_embeddings=model.encode(\"코오롱 수소 벨류체인 플랫폼\", normalize_embeddings=True).tolist(),\n",
    "    n_results=3\n",
    ")\n",
    "\n",
    "print(result)"
   ]
  },
  {
   "cell_type": "code",
   "execution_count": null,
   "metadata": {},
   "outputs": [],
   "source": [
    "!pip install langchain-chroma\n",
    "!pip install langchain-community\n",
    "!pip install langchain-text-splitters"
   ]
  },
  {
   "cell_type": "code",
   "execution_count": 15,
   "metadata": {},
   "outputs": [
    {
     "name": "stdout",
     "output_type": "stream",
     "text": [
      "date: 2022.7.6 16:27\n",
      "category: economy\n",
      "press: 데일리안\n",
      "title: 코오롱 수소 밸류체인 플랫폼 구축… 생산부터 발전까지 원스톱\n",
      "document: ‘코오롱 H2 플랫폼’ 밸류체인 플랫폼 발표 계열사간 역량 결집과 동시에 대외 파트너십 구축 6일 동대문 DDP에서 열린 코리아 H2서밋 인베스터데이에 참석한 코오롱인더스트리 장희구 사장 왼쪽에서 네번째 ⓒ코오롱그룹 데일리안 조인영 기자 코오롱그룹이 수소산업의 밸류체인 전반을 고도화하는 플랫폼 구축에 나선다. 코오롱그룹은 6일 동대문 디자인플라자에서 열린 ‘코리아 H2 비즈니스 서밋 2022 인베스터데이’에 참가해 코오롱인더스트리와 코오롱글로벌 코오롱글로텍 코오롱플라스틱 등 그룹이 보유한 첨단기술을 바탕으로 수소 생산부터 운송 저장 발전사업까지 아우르는 코오롱 H2 플랫폼을 구축한다고 밝혔다. 코오롱인더스트리 장희구 사장은 국내외 수소산업 관련 투자자들을 대상으로 ‘코오롱 H2 플랫폼’의 산업적 가치와 의미를 설명하고 그룹의 역량을 집중하겠다고 발표했다. 최근 세계적인 탄소중립 기조에 발맞춰 수소로 대표되는 청정에너지 사업을 그룹의 지속 가능한 미래를 만들 수 있는 핵심 사업으로 성장시키겠다는 전략이다. 코오롱그룹은 수소연료전지를 중심으로 전개해 온 사업 분야를 확대 재편해 청정수소 생산부터 운송과 저장 이를 이용한 전력생산까지 원스톱 서비스가 가능한 플랫폼을 마련해 나간다. 수소 생산분야는 국내 풍력발전 시장을 선도하고 있는 코오롱글로벌과 협업해 진행한다. 풍력발전은 특성상 야간 및 유휴전력이 발생하게 되는데 이를 활용해 물을 전기 분해하는 수전해방식으로 청정수소를 생산할 예정이다. 경주와 태백 풍력단지를 비롯해 현재 추진 중인 완도 해상풍력단지에 이르기까지 수소생산을 위한 중요한 기반 시설로 활용할 계획이다. 코오롱인더스트리의 수분제어장치 및 전해질 분리막 기술 PEM MEA 이 국내에서 선두를 달리고 있고 상용화도 가능해 사업화에 속도를 낼 수 있을 것으로 보고 있다. 코오롱글로벌은 이와 동시에 천연가스 기반의 블루수소 생산사업도 추진 중에 있다. 천연가스를 개질해 수소를 발생시키는 블루수소 생산플랜트 사업은 물을 분리해 수소를 생산하는 그린수소 생산방식과는 달리 탄소배출이 일부 발생할 수 있으나 청정수소 생태계로 가기 위해 거쳐야 할 단계로 보고 사업영역을 순차적으로 확대해 나갈 계획이다. 코오롱이 직접 생산한 청정수소는 코오롱글로텍과 코오롱플라스틱이 개발하고 있는 수소저장용 고압 저장탱크와 수소탱크의 내부 지지재인 수소탱크 라이너 등으로 운송 저장된다. 6일 동대문 DDP에서 열린 코리아 H2서밋 인베스터데이에 참석한 코오롱인더스트리 장희구 사장 왼쪽에서 네번째 ⓒ코오롱그룹 코오롱글로텍은 수소 압력용기에 필수적인 드라이 와인딩 대형 수소탱크 성형기술 및 토우프레그 드라이 와인딩에 사용되는 탄소섬유 중간재 기술력을 보유 중이며 코오롱플라스틱은 수소차 하우징 부품 소재와 수소압력용기 소재 개발 기술력을 보유하고 있어 수소의 운송 저장 분야를 담당할 예정이다. 코오롱이 생산한 수소는 발전사업의 원료로도 활용한다. 코오롱인더스트리는 전국의 각 사업장에 수소발전설비를 구축하고 수소를 활용한 전력을 자체 생산해 제조설비 운영에 활용한다. 이미 상용화된 코오롱인더스트리의 고분자전해질막인 PEM을 적용한 PEMFC 고분자전해질 연료전지 기반의 연료전지 발전소가 만들어지면 수소 기반의 전력생산이 가능해져 2040년까지 탄소배출 제로 목표인 RE100 달성에도 한 발 다가서게 될 것으로 보고 있다. 이를 위해 수소산업을 함께 영위하는 기술 기업과의 긴밀한 파트너십 구축을 위한 Open Innovation 오픈 이노베이션 시스템도 전개한다. 코오롱이 추진하는 오픈 이노베이션은 수소의 생산 운송 저장 발전 등 ‘코오롱 H2 플랫폼’ 사업에 누구라도 함께할 수 있는 협력 시스템이다. 뿐만 아니라 탄소중립 연료전지용 소재 운송 저장 사업 발전사업 기술 등 다양한 분야에서 유기적 협력을 모색하고 파트너와의 상생협력으로 수소 생태계의 Total Solution Provider 종합 솔루션 공급자 로 성장하는 것을 목표로 하고 있다. 코오롱그룹 관계자는 “코오롱은 2000년대 초부터 대한민국 수소산업의 미래를 내다보고 핵심소재 개발과 수소경제 저변 확대를 위해 꾸준히 준비해왔다”며 “코오롱 H2 플랫폼의 실현을 위해 그룹이 가진 수소사업 소재 기술력과 외부 파트너들과의 Open Innovation 협력체를 통해 수소산업 생태계 전반에 핵심 Provider로 자리매김해 나갈 것”이라고 말했다. 한편 코리아 H2 비즈니스 서밋은 수소경제를 조기에 확산하고 대한민국 기업들의 수소 경쟁력을 강화할 목적으로 지난해 9월 출범했다. 코오롱그룹을 비롯해 현대차그룹 SK그룹 포스코그룹 등 총 17개 기업이 참여하고 있으며 2022 인베스터 데이 는 현대차그룹 SK그룹 등 17개 국내 회원사와 해외 에너지 기업 및 투자·금융사 임원들이 행사에 참석해 한국 수소 사업의 현황과 비전을 논의한다.\n",
      "link: https://n.news.naver.com/mnews/article/119/0002618742?sid=101\n",
      "summary: 코오롱그룹은 6일 동대문 디자인플라자에서 열린 ‘코리아 H2 비즈니스 서밋 2022 인베스터데이’에 참가해 그룹이 보유한 첨단기술을 바탕으로 수소 생산부터 운송 저장 발전사업까지 아우르는 코오롱 H2 플랫폼을 구축한다고 밝히고, 장희구 사장은 국내외 수소산업 관련 투자자들을 대상으로 ‘코오롱 H2 플랫폼’의 산업적 가치와 의미를 설명하고 그룹의 역량을 집중하겠다고 발표했다.\n"
     ]
    }
   ],
   "source": [
    "from langchain_chroma import Chroma\n",
    "from langchain_community.document_loaders import TextLoader\n",
    "from langchain_community.document_loaders import CSVLoader\n",
    "from langchain_community.embeddings.sentence_transformer import (\n",
    "    SentenceTransformerEmbeddings\n",
    ")\n",
    "from langchain_text_splitters import CharacterTextSplitter\n",
    "\n",
    "loader = CSVLoader('./naver-news-summarization-ko/test_10row.csv', encoding='cp949')\n",
    "documents = loader.load()\n",
    "\n",
    "# slpit it into chunks\n",
    "text_splitter = CharacterTextSplitter(chunk_size=1000, chunk_overlap=0)\n",
    "docs = text_splitter.split_documents(documents)\n",
    "\n",
    "\n",
    "# create the open-source embedding function\n",
    "embedding_function = SentenceTransformerEmbeddings(model_name=\"all-MiniLM-L6-v2\")\n",
    "\n",
    "# load it into Chroma\n",
    "db = Chroma.from_documents(docs, embedding_function)\n",
    "\n",
    "# query it\n",
    "query = \"코오롱 수소 벨류체인 플랫폼\"\n",
    "docs = db.similarity_search(query)\n",
    "\n",
    "# print results\n",
    "print(docs[0].page_content)"
   ]
  },
  {
   "cell_type": "code",
   "execution_count": 17,
   "metadata": {},
   "outputs": [
    {
     "name": "stderr",
     "output_type": "stream",
     "text": [
      "huggingface/tokenizers: The current process just got forked, after parallelism has already been used. Disabling parallelism to avoid deadlocks...\n",
      "To disable this warning, you can either:\n",
      "\t- Avoid using `tokenizers` before the fork if possible\n",
      "\t- Explicitly set the environment variable TOKENIZERS_PARALLELISM=(true | false)\n"
     ]
    },
    {
     "name": "stdout",
     "output_type": "stream",
     "text": [
      "Collecting faiss-cpu\n",
      "  Downloading faiss_cpu-1.9.0.post1-cp312-cp312-macosx_11_0_arm64.whl.metadata (4.4 kB)\n",
      "Requirement already satisfied: numpy<3.0,>=1.25.0 in /Users/wonik/.pyenv/versions/3.12.5/lib/python3.12/site-packages (from faiss-cpu) (1.26.4)\n",
      "Requirement already satisfied: packaging in /Users/wonik/.pyenv/versions/3.12.5/lib/python3.12/site-packages (from faiss-cpu) (24.2)\n",
      "Downloading faiss_cpu-1.9.0.post1-cp312-cp312-macosx_11_0_arm64.whl (3.2 MB)\n",
      "\u001b[2K   \u001b[90m━━━━━━━━━━━━━━━━━━━━━━━━━━━━━━━━━━━━━━━━\u001b[0m \u001b[32m3.2/3.2 MB\u001b[0m \u001b[31m51.2 MB/s\u001b[0m eta \u001b[36m0:00:00\u001b[0m\n",
      "\u001b[?25hInstalling collected packages: faiss-cpu\n",
      "Successfully installed faiss-cpu-1.9.0.post1\n",
      "\n",
      "\u001b[1m[\u001b[0m\u001b[34;49mnotice\u001b[0m\u001b[1;39;49m]\u001b[0m\u001b[39;49m A new release of pip is available: \u001b[0m\u001b[31;49m24.2\u001b[0m\u001b[39;49m -> \u001b[0m\u001b[32;49m24.3.1\u001b[0m\n",
      "\u001b[1m[\u001b[0m\u001b[34;49mnotice\u001b[0m\u001b[1;39;49m]\u001b[0m\u001b[39;49m To update, run: \u001b[0m\u001b[32;49mpip install --upgrade pip\u001b[0m\n"
     ]
    }
   ],
   "source": [
    "!pip install faiss-cpu"
   ]
  },
  {
   "cell_type": "code",
   "execution_count": null,
   "metadata": {},
   "outputs": [],
   "source": [
    "from langchain_community.vectorstores import FAISS\n",
    "from langchain_community.document_loaders import CSVLoader\n",
    "from langchain_community.embeddings.sentence_transformer import (\n",
    "    SentenceTransformerEmbeddings\n",
    ")\n",
    "from langchain_text_splitters import CharacterTextSplitter\n",
    "\n",
    "loader = CSVLoader('./naver-news-summarization-ko/test_10row.csv', encoding='cp949')\n",
    "documents = loader.load()\n",
    "\n",
    "# slpit it into chunks\n",
    "text_splitter = CharacterTextSplitter(chunk_size=1000, chunk_overlap=0)\n",
    "docs = text_splitter.split_documents(documents)\n",
    "\n",
    "\n",
    "# create the open-source embedding function\n",
    "embedding_function = SentenceTransformerEmbeddings(model_name=\"all-MiniLM-L6-v2\")\n",
    "\n",
    "# load it into Chroma\n",
    "# db = Chroma.from_documents(docs, embedding_function)\n",
    "db = FAISS.from_documents(docs, embedding_function)\n",
    "\n",
    "# query it\n",
    "query = \"코오롱 수소 벨류체인 플랫폼\"\n",
    "docs = db.similarity_search(query)\n",
    "\n",
    "# print results\n",
    "print(docs[0].page_content)"
   ]
  }
 ],
 "metadata": {
  "kernelspec": {
   "display_name": "Python 3",
   "language": "python",
   "name": "python3"
  },
  "language_info": {
   "codemirror_mode": {
    "name": "ipython",
    "version": 3
   },
   "file_extension": ".py",
   "mimetype": "text/x-python",
   "name": "python",
   "nbconvert_exporter": "python",
   "pygments_lexer": "ipython3",
   "version": "3.12.5"
  }
 },
 "nbformat": 4,
 "nbformat_minor": 2
}
