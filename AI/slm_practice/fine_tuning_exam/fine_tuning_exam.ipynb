{
 "cells": [
  {
   "cell_type": "markdown",
   "metadata": {},
   "source": [
    "# 데이터 준비\n",
    "참고 : https://medium.com/@j622amilah/fine-tuning-with-openai-624a6055517d"
   ]
  },
  {
   "cell_type": "code",
   "execution_count": 2,
   "metadata": {},
   "outputs": [],
   "source": [
    "system_content = \"\"\"You are a helpful store hour customer assistant. You are to tell people   \n",
    "when a store location opens for a particular day.\"\"\"\n",
    "\n",
    "prompt_Q = [\"What time is seoul open on Monday?\",  \n",
    "\"What time is seoul open on Tuesday?\",  \n",
    "\"What time is seoul open on Wednesday?\",  \n",
    "\"What time is seoul open on Thursday?\",  \n",
    "\"What time is seoul open on Friday?\",  \n",
    "\"What time is seoul open on Saturday?\",  \n",
    "\"What time is seoul open on Sunday?\",  \n",
    "\"When is seoul open on Monday?\",  \n",
    "\"When is seoul open on Tuesday?\",  \n",
    "\"When is seoul open on Wednesday?\",  \n",
    "\"When is seoul open on Thursday?\",  \n",
    "\"When is seoul open on Friday?\",  \n",
    "\"When is seoul open on Saturday?\",  \n",
    "\"When is seoul open on Sunday?\",  \n",
    "\"What time is busan open on Monday?\",  \n",
    "\"What time is busan open on Tuesday?\",  \n",
    "\"What time is busan open on Wednesday?\",  \n",
    "\"What time is busan open on Thursday?\",  \n",
    "\"What time is busan open on Friday?\",  \n",
    "\"What time is busan open on Saturday?\",  \n",
    "\"What time is busan open on Sunday?\",  \n",
    "\"What time is dokdo open on Monday?\",  \n",
    "\"What time is dokdo open on Tuesday?\",  \n",
    "\"What time is dokdo open on Wednesday?\",  \n",
    "\"What time is dokdo open on Thursday?\",  \n",
    "\"What time is dokdo open on Friday?\",  \n",
    "\"What time is dokdo open on Saturday?\",  \n",
    "\"What time is dokdo open on Sunday?\",  \n",
    "\"Are you open on Monday?\",  \n",
    "\"Are you open on Tuesday?\",  \n",
    "\"Are you open on Wednesday?\",  \n",
    "\"Are you open on Thursday?\",  \n",
    "\"Are you open on Friday?\",  \n",
    "\"Are you open on Saturday?\",  \n",
    "\"Are you open on Sunday?\",  \n",
    "\"Are you open on Monday?\",  \n",
    "\"Are you open on Tuesday?\",  \n",
    "\"Are you open on Wednesday?\",  \n",
    "\"Are you open on Thursday?\",  \n",
    "\"Are you open on Friday?\",  \n",
    "\"Are you open on Saturday?\",  \n",
    "\"Are you open on Sunday?\"]\n",
    "\n",
    "assistant_content_A = [\"Seoul opens at 9 am on Monday.\",\n",
    "    \"Seoul opens at 9 am on Tuesday.\",\n",
    "    \"Seoul opens at 9 am on Wednesday.\",\n",
    "    \"Seoul opens at 9 am on Thursday.\",\n",
    "    \"Seoul opens at 9 am on Friday.\",\n",
    "    \"Seoul opens at 9 am on Saturday.\",\n",
    "    \"Seoul opens at 9 am on Sunday.\",\n",
    "    \"Seoul opens at 9 am on Monday.\",\n",
    "    \"Seoul opens at 9 am on Tuesday.\",\n",
    "    \"Seoul opens at 9 am on Wednesday.\",\n",
    "    \"Seoul opens at 9 am on Thursday.\",\n",
    "    \"Seoul opens at 9 am on Friday.\",\n",
    "    \"Seoul opens at 9 am on Saturday.\",\n",
    "    \"Seoul opens at 9 am on Sunday.\",\n",
    "    \"Busan opens at 8 am on Monday.\",\n",
    "    \"Busan opens at 8 am on Tuesday.\",\n",
    "    \"Busan opens at 8 am on Wednesday.\",\n",
    "    \"Busan opens at 8 am on Thursday.\",\n",
    "    \"Busan opens at 9 am on Friday.\",\n",
    "    \"Busan opens at 12 midday on Saturday.\",\n",
    "    \"Busan opens at 12 midday on Sunday.\",\n",
    "    \"Dokdo opens at 8 am on Monday.\",\n",
    "    \"Dokdo opens at 8 am on Tuesday.\",\n",
    "    \"Dokdo opens at 8 am on Wednesday.\",\n",
    "    \"Dokdo opens at 8 am on Thursday.\",\n",
    "    \"Dokdo opens at 9 am on Friday.\",\n",
    "    \"Dokdo opens at 10 am on Saturday.\",\n",
    "    \"Dokdo opens at 10 am on Sunday.\",\n",
    "    \"On Monday, location0, location1, and location2 open at 9 am, 8 am, and 8 am respectively.\",\n",
    "    \"On Tuesday, location0, location1, and location2 open at 9 am, 8 am, and 8 am respectively.\",\n",
    "    \"On Wednesday, location0, location1, and location2 open at 9 am, 8 am, and 8 am respectively.\",\n",
    "    \"On Thursday, location0, location1, and location2 open at 9 am, 8 am, and 8 am respectively.\",\n",
    "    \"On Friday, location0, location1, and location2 open at 9 am, 9 am, and 9 am respectively.\",\n",
    "    \"On Saturday, location0, location1, and location2 open at 9 am, 12 midday, and 10 am respectively.\",\n",
    "    \"On Sunday, location0, location1, and location2 open at 9 am, 12 midday, and 10 am respectively.\",\n",
    "    \"Monday, location0, location1, and location2 open at 9 am, 8 am, and 8 am respectively.\",\n",
    "    \"Tuesday, location0, location1, and location2 open at 9 am, 8 am, and 8 am respectively.\",\n",
    "    \"Wednesday, location0, location1, and location2 open at 9 am, 8 am, and 8 am respectively.\",\n",
    "    \"Thursday, location0, location1, and location2 open at 9 am, 8 am, and 8 am respectively.\",\n",
    "    \"Friday, location0, location1, and location2 open at 9 am, 9 am, and 9 am respectively.\",\n",
    "    \"Saturday, location0, location1, and location2 open at 9 am, 12 midday, and 10 am respectively.\",\n",
    "    \"Sunday, location0, location1, and location2 open at 9 am, 12 midday, and 10 am respectively.\"]"
   ]
  },
  {
   "cell_type": "markdown",
   "metadata": {},
   "source": [
    "# Python으로 데이터 셋 만들기"
   ]
  },
  {
   "cell_type": "code",
   "execution_count": 4,
   "metadata": {},
   "outputs": [],
   "source": [
    " for i, desired_A in enumerate(assistant_content_A):\n",
    "    line_out = {\"messages\": [{\"role\": \"system\", \"content\": system_content},\n",
    "            {\"role\": \"user\", \"content\": prompt_Q[i]},\n",
    "            {\"role\": \"assistant\", \"content\": desired_A}]}\n",
    "    \n",
    "    which_way = 'txt_save'  # 'json_save'\n",
    "    \n",
    "    # JSONL is a text-based format using the . jsonl file extension that is basically the same as \n",
    "    # JSON format but implemented using newline characters to separate JSON values. It is also \n",
    "    # known as JSON Lines.\n",
    "    \n",
    "    if i == 0:\n",
    "        if which_way == 'json_save':\n",
    "            with open(\"datafile.jsonl\", \"w\") as wf:\n",
    "                json.dump(str(line_out) + '\\n', wf)\n",
    "        else:\n",
    "            # Save as text\n",
    "            fptr = open(\"datafile.jsonl\", 'w', encoding='UTF8') \n",
    "            fptr.write(str(line_out) + '\\n')\n",
    "            fptr.close()\n",
    "    else:\n",
    "        if which_way == 'json_save':\n",
    "            with open(\"datafile.jsonl\", \"a\") as wf:\n",
    "                json.dump(str(line_out) + '\\n', wf)\n",
    "        else:\n",
    "            # Save as text\n",
    "            fptr = open(\"datafile.jsonl\", 'a', encoding='UTF8')\n",
    "            fptr.write(str(line_out) + '\\n')\n",
    "            fptr.close()"
   ]
  },
  {
   "cell_type": "markdown",
   "metadata": {},
   "source": [
    "# 데이터 전처리 과정\n",
    "\n",
    "- OpenAI에서는 업로드할 때 '(작은 따옴표)가 있을 경우 실패 할 수 있음 -> \"(큰 따옴표)로 변경"
   ]
  },
  {
   "cell_type": "code",
   "execution_count": 5,
   "metadata": {},
   "outputs": [],
   "source": [
    "# 싱글 쿼터 제거\n",
    "!cat datafile.jsonl | sed \"s/'/\\\"/g\" > datafile_no_siglequotes.jsonl"
   ]
  },
  {
   "cell_type": "code",
   "execution_count": 8,
   "metadata": {},
   "outputs": [],
   "source": [
    "# 문자열 표기, 백슬래시 문자 제거\n",
    "!cat datafile_no_siglequotes.jsonl | sed 's/\\\"\\[/ \\[/g' | sed 's/\\]\\\"/\\]/g' | sed 's/\\\\\"/\\\"/g' > datafile_nostring_around_data.jsonl"
   ]
  },
  {
   "cell_type": "markdown",
   "metadata": {},
   "source": [
    "# OpenAI 파인튜닝\n"
   ]
  },
  {
   "cell_type": "code",
   "execution_count": null,
   "metadata": {},
   "outputs": [],
   "source": [
    "!pip install openai"
   ]
  },
  {
   "cell_type": "code",
   "execution_count": null,
   "metadata": {},
   "outputs": [],
   "source": [
    "from openai import OpenAI\n",
    "from dotenv import load_dotenv\n",
    "import os\n",
    "\n",
    "load_dotenv()\n",
    "openai_key = os.environ.get(\"OPENAI_API_KEY\")\n",
    "client = OpenAI(api_key=openai_key)\n",
    "\n",
    "client.files.create(\n",
    "    file = open(\"datafile_nostring_around_data.jsonl\", \"rb\"),\n",
    "    purpose=\"fine-tune\"\n",
    ")"
   ]
  },
  {
   "cell_type": "code",
   "execution_count": null,
   "metadata": {},
   "outputs": [],
   "source": [
    "# 파인 튜닝 - JOB 생성\n",
    "# 위의 소스를 실행하면 FileObject 반환\n",
    "# FileObject(id='file-Byj96BjQ4FxBhqj123', \n",
    "response = client.fine_tuning.jobs.create(\n",
    "    training_file='file-Byj96BjQ4Fx123',\n",
    "    model=\"gpt-3.5-turbo\"\n",
    ")\n",
    "print(response)"
   ]
  },
  {
   "cell_type": "code",
   "execution_count": null,
   "metadata": {},
   "outputs": [],
   "source": [
    "# fine tuning model 사용\n",
    "# FineTuningJob(id='ftjob-D8v56pccztVarR12', ....\n",
    "# fine-tuning job 리스트\n",
    "client.fine_tuning.jobs.list(limit = 5)"
   ]
  },
  {
   "cell_type": "code",
   "execution_count": null,
   "metadata": {},
   "outputs": [],
   "source": [
    "# 위의 소스 실행 시 일정 시간 지난 후 OpenAI에서 이메일이 온다\n",
    "# SyncCursorPage[FineTuningJob](data=[FineTuningJob(id='ftjob-123', ...\n",
    "# 또는 https://platform.openai.com/finetune에서 모델 확인 가능\n",
    "# 위에서 fine_tuned_model명 이용\n",
    "model = 'ft:gpt-3.5-turbo-0125:personal::123'\n",
    "\n",
    "# Assistant content\n",
    "system_content = \"You are a helpful store hour customer assistant. You are to tell people when a store location opens for a particular day.\"\n",
    "prompt = \"Are you open on Monday?\"\n",
    "assistant_content = \"On Monday, Seoul, Busan, and Dokdo open at 9 am, 8 am, and 8 am respectively.\"\n",
    "\n",
    "completion = client.chat.completions.create(\n",
    "    model = model,\n",
    "    messages=[\n",
    "        {\"role\": \"system\", \"content\": system_content},\n",
    "        {\"role\": \"user\", \"content\": prompt},\n",
    "        {\"role\": \"assistant\", \"content\": assistant_content}\n",
    "    ]\n",
    ")\n",
    "\n",
    "print(completion.choices[0].message.content)\n",
    "\n",
    "for i in range(20):\n",
    "    response = client.chat.completions.create(\n",
    "        model=model,\n",
    "        messages=[\n",
    "            {\"role\": \"system\", \"content\": system_content},\n",
    "            {\"role\": \"user\", \"content\": prompt},\n",
    "            {\"role\": \"assistant\", \"content\": assistant_content},\n",
    "        ]\n",
    "    )\n",
    "\n",
    "    parse_out = response.choices[0].message.content\n",
    "    print(parse_out)"
   ]
  },
  {
   "cell_type": "code",
   "execution_count": null,
   "metadata": {},
   "outputs": [],
   "source": [
    "# JobID로 파인튜닝 작업 조회\n",
    "client.fine_tuning.jobs.retrieve(\"ftjob-123\")\n",
    "\n",
    "# job 취소\n",
    "# client.fine_tuning.jobs.cancel(\"ftjob-123\")\n",
    "\n",
    "# 특정 파인 튜닝에 대한 이벤트 목록 조회\n",
    "client.fine_tuning.jobs.list_events(fine_tuning_job_id=\"ftjob-123\", limit=10)\n",
    "\n",
    "# 파인튜닝 모델 삭제\n",
    "# client.models.delete(\"ft:gpt-3.5-turbo-0125:personal::123\")"
   ]
  }
 ],
 "metadata": {
  "kernelspec": {
   "display_name": "Python 3",
   "language": "python",
   "name": "python3"
  },
  "language_info": {
   "codemirror_mode": {
    "name": "ipython",
    "version": 3
   },
   "file_extension": ".py",
   "mimetype": "text/x-python",
   "name": "python",
   "nbconvert_exporter": "python",
   "pygments_lexer": "ipython3",
   "version": "3.12.5"
  }
 },
 "nbformat": 4,
 "nbformat_minor": 2
}
