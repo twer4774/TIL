{
 "cells": [
  {
   "cell_type": "markdown",
   "metadata": {},
   "source": [
    "# Multi sLM AI 업무비서\n",
    "- 사용자 -> 오케스트레이터 모듈 -> 분기 (tool 집합) -> DB or WEB -> 응답 생성 -> 사용자"
   ]
  },
  {
   "cell_type": "markdown",
   "metadata": {},
   "source": [
    "# Orchestraion \n",
    "- 키워드 추출\n",
    "- 툴 분류"
   ]
  },
  {
   "cell_type": "code",
   "execution_count": 3,
   "metadata": {},
   "outputs": [
    {
     "name": "stdout",
     "output_type": "stream",
     "text": [
      "Collecting openai==0.28\n",
      "  Using cached openai-0.28.0-py3-none-any.whl.metadata (13 kB)\n",
      "Requirement already satisfied: requests>=2.20 in /Users/wonik/.pyenv/versions/3.12.5/lib/python3.12/site-packages (from openai==0.28) (2.32.3)\n",
      "Requirement already satisfied: tqdm in /Users/wonik/.pyenv/versions/3.12.5/lib/python3.12/site-packages (from openai==0.28) (4.67.1)\n",
      "Requirement already satisfied: aiohttp in /Users/wonik/.pyenv/versions/3.12.5/lib/python3.12/site-packages (from openai==0.28) (3.11.11)\n",
      "Requirement already satisfied: charset-normalizer<4,>=2 in /Users/wonik/.pyenv/versions/3.12.5/lib/python3.12/site-packages (from requests>=2.20->openai==0.28) (3.4.1)\n",
      "Requirement already satisfied: idna<4,>=2.5 in /Users/wonik/.pyenv/versions/3.12.5/lib/python3.12/site-packages (from requests>=2.20->openai==0.28) (3.10)\n",
      "Requirement already satisfied: urllib3<3,>=1.21.1 in /Users/wonik/.pyenv/versions/3.12.5/lib/python3.12/site-packages (from requests>=2.20->openai==0.28) (2.3.0)\n",
      "Requirement already satisfied: certifi>=2017.4.17 in /Users/wonik/.pyenv/versions/3.12.5/lib/python3.12/site-packages (from requests>=2.20->openai==0.28) (2024.12.14)\n",
      "Requirement already satisfied: aiohappyeyeballs>=2.3.0 in /Users/wonik/.pyenv/versions/3.12.5/lib/python3.12/site-packages (from aiohttp->openai==0.28) (2.4.4)\n",
      "Requirement already satisfied: aiosignal>=1.1.2 in /Users/wonik/.pyenv/versions/3.12.5/lib/python3.12/site-packages (from aiohttp->openai==0.28) (1.3.2)\n",
      "Requirement already satisfied: attrs>=17.3.0 in /Users/wonik/.pyenv/versions/3.12.5/lib/python3.12/site-packages (from aiohttp->openai==0.28) (24.3.0)\n",
      "Requirement already satisfied: frozenlist>=1.1.1 in /Users/wonik/.pyenv/versions/3.12.5/lib/python3.12/site-packages (from aiohttp->openai==0.28) (1.5.0)\n",
      "Requirement already satisfied: multidict<7.0,>=4.5 in /Users/wonik/.pyenv/versions/3.12.5/lib/python3.12/site-packages (from aiohttp->openai==0.28) (6.1.0)\n",
      "Requirement already satisfied: propcache>=0.2.0 in /Users/wonik/.pyenv/versions/3.12.5/lib/python3.12/site-packages (from aiohttp->openai==0.28) (0.2.1)\n",
      "Requirement already satisfied: yarl<2.0,>=1.17.0 in /Users/wonik/.pyenv/versions/3.12.5/lib/python3.12/site-packages (from aiohttp->openai==0.28) (1.18.3)\n",
      "Using cached openai-0.28.0-py3-none-any.whl (76 kB)\n",
      "Installing collected packages: openai\n",
      "\u001b[31mERROR: pip's dependency resolver does not currently take into account all the packages that are installed. This behaviour is the source of the following dependency conflicts.\n",
      "langchain-openai 0.2.14 requires openai<2.0.0,>=1.58.1, but you have openai 0.28.0 which is incompatible.\u001b[0m\u001b[31m\n",
      "\u001b[0mSuccessfully installed openai-0.28.0\n",
      "\n",
      "\u001b[1m[\u001b[0m\u001b[34;49mnotice\u001b[0m\u001b[1;39;49m]\u001b[0m\u001b[39;49m A new release of pip is available: \u001b[0m\u001b[31;49m24.2\u001b[0m\u001b[39;49m -> \u001b[0m\u001b[32;49m24.3.1\u001b[0m\n",
      "\u001b[1m[\u001b[0m\u001b[34;49mnotice\u001b[0m\u001b[1;39;49m]\u001b[0m\u001b[39;49m To update, run: \u001b[0m\u001b[32;49mpip install --upgrade pip\u001b[0m\n"
     ]
    }
   ],
   "source": [
    "# !pip uninstall openai -y\n",
    "!pip install openai==0.28"
   ]
  },
  {
   "cell_type": "code",
   "execution_count": 1,
   "metadata": {},
   "outputs": [
    {
     "name": "stdout",
     "output_type": "stream",
     "text": [
      "{\"agent\": \"Web agent\", \"keyword\": \"한국 수도\"}\n",
      "\n"
     ]
    }
   ],
   "source": [
    "from azure.gpt.orch import Orch\n",
    "\n",
    "orch = Orch()\n",
    "\n",
    "history = \"\"\"\n",
    "user : 한국 수도는 어디야?\n",
    "\"\"\"\n",
    "response = orch._generate(history)\n",
    "print(response)"
   ]
  },
  {
   "cell_type": "code",
   "execution_count": 2,
   "metadata": {},
   "outputs": [
    {
     "name": "stdout",
     "output_type": "stream",
     "text": [
      "{\"agent\": \"Document: 서울.pdf\", \"keyword\": \"한국의 수도\"}\n",
      "\n"
     ]
    }
   ],
   "source": [
    "history = \"\"\"\n",
    "user : 한국의 수도는 어디야?\n",
    "assistant : 한국의 수도는 서울입니다.\n",
    "user : 그럼 이 문서에서 그 정보 좀 찾아줄래? \\n문서 이름 : \"서울.pdf\"\n",
    "\"\"\"\n",
    "\n",
    "response = orch._generate(history)\n",
    "print(response)"
   ]
  },
  {
   "cell_type": "markdown",
   "metadata": {},
   "source": [
    "# AI Search with MS Azure\n",
    "- AI 기반 정보 검색 플랫폼\n",
    "- 텍스트 검색, Vector 검색 및 하이브리드 검색 제공\n",
    "    - BM25, HNSW, RRF 등 다양한 검색 알고리즘 제공\n",
    "- 필터, 동의어 매핑 등 다양한 기능들을 쉽게 구현 가능\n",
    "- 보안 및 암호화에 강점\n",
    "    - 인바운드 및 아웃바운드 엑세스 보안"
   ]
  },
  {
   "cell_type": "code",
   "execution_count": 3,
   "metadata": {},
   "outputs": [
    {
     "name": "stdout",
     "output_type": "stream",
     "text": [
      "Collecting langchain==0.2.5\n",
      "  Downloading langchain-0.2.5-py3-none-any.whl.metadata (7.0 kB)\n",
      "Requirement already satisfied: PyYAML>=5.3 in /Users/wonik/.pyenv/versions/3.12.5/lib/python3.12/site-packages (from langchain==0.2.5) (6.0.2)\n",
      "Requirement already satisfied: SQLAlchemy<3,>=1.4 in /Users/wonik/.pyenv/versions/3.12.5/lib/python3.12/site-packages (from langchain==0.2.5) (2.0.36)\n",
      "Requirement already satisfied: aiohttp<4.0.0,>=3.8.3 in /Users/wonik/.pyenv/versions/3.12.5/lib/python3.12/site-packages (from langchain==0.2.5) (3.11.11)\n",
      "Collecting langchain-core<0.3.0,>=0.2.7 (from langchain==0.2.5)\n",
      "  Downloading langchain_core-0.2.43-py3-none-any.whl.metadata (6.2 kB)\n",
      "Collecting langchain-text-splitters<0.3.0,>=0.2.0 (from langchain==0.2.5)\n",
      "  Downloading langchain_text_splitters-0.2.4-py3-none-any.whl.metadata (2.3 kB)\n",
      "Collecting langsmith<0.2.0,>=0.1.17 (from langchain==0.2.5)\n",
      "  Downloading langsmith-0.1.147-py3-none-any.whl.metadata (14 kB)\n",
      "Requirement already satisfied: numpy<2.0.0,>=1.26.0 in /Users/wonik/.pyenv/versions/3.12.5/lib/python3.12/site-packages (from langchain==0.2.5) (1.26.4)\n",
      "Requirement already satisfied: pydantic<3,>=1 in /Users/wonik/.pyenv/versions/3.12.5/lib/python3.12/site-packages (from langchain==0.2.5) (2.10.4)\n",
      "Requirement already satisfied: requests<3,>=2 in /Users/wonik/.pyenv/versions/3.12.5/lib/python3.12/site-packages (from langchain==0.2.5) (2.32.3)\n",
      "Collecting tenacity<9.0.0,>=8.1.0 (from langchain==0.2.5)\n",
      "  Downloading tenacity-8.5.0-py3-none-any.whl.metadata (1.2 kB)\n",
      "Requirement already satisfied: aiohappyeyeballs>=2.3.0 in /Users/wonik/.pyenv/versions/3.12.5/lib/python3.12/site-packages (from aiohttp<4.0.0,>=3.8.3->langchain==0.2.5) (2.4.4)\n",
      "Requirement already satisfied: aiosignal>=1.1.2 in /Users/wonik/.pyenv/versions/3.12.5/lib/python3.12/site-packages (from aiohttp<4.0.0,>=3.8.3->langchain==0.2.5) (1.3.2)\n",
      "Requirement already satisfied: attrs>=17.3.0 in /Users/wonik/.pyenv/versions/3.12.5/lib/python3.12/site-packages (from aiohttp<4.0.0,>=3.8.3->langchain==0.2.5) (24.3.0)\n",
      "Requirement already satisfied: frozenlist>=1.1.1 in /Users/wonik/.pyenv/versions/3.12.5/lib/python3.12/site-packages (from aiohttp<4.0.0,>=3.8.3->langchain==0.2.5) (1.5.0)\n",
      "Requirement already satisfied: multidict<7.0,>=4.5 in /Users/wonik/.pyenv/versions/3.12.5/lib/python3.12/site-packages (from aiohttp<4.0.0,>=3.8.3->langchain==0.2.5) (6.1.0)\n",
      "Requirement already satisfied: propcache>=0.2.0 in /Users/wonik/.pyenv/versions/3.12.5/lib/python3.12/site-packages (from aiohttp<4.0.0,>=3.8.3->langchain==0.2.5) (0.2.1)\n",
      "Requirement already satisfied: yarl<2.0,>=1.17.0 in /Users/wonik/.pyenv/versions/3.12.5/lib/python3.12/site-packages (from aiohttp<4.0.0,>=3.8.3->langchain==0.2.5) (1.18.3)\n",
      "Requirement already satisfied: jsonpatch<2.0,>=1.33 in /Users/wonik/.pyenv/versions/3.12.5/lib/python3.12/site-packages (from langchain-core<0.3.0,>=0.2.7->langchain==0.2.5) (1.33)\n",
      "Requirement already satisfied: packaging<25,>=23.2 in /Users/wonik/.pyenv/versions/3.12.5/lib/python3.12/site-packages (from langchain-core<0.3.0,>=0.2.7->langchain==0.2.5) (23.2)\n",
      "Requirement already satisfied: typing-extensions>=4.7 in /Users/wonik/.pyenv/versions/3.12.5/lib/python3.12/site-packages (from langchain-core<0.3.0,>=0.2.7->langchain==0.2.5) (4.12.2)\n",
      "Requirement already satisfied: httpx<1,>=0.23.0 in /Users/wonik/.pyenv/versions/3.12.5/lib/python3.12/site-packages (from langsmith<0.2.0,>=0.1.17->langchain==0.2.5) (0.27.2)\n",
      "Requirement already satisfied: orjson<4.0.0,>=3.9.14 in /Users/wonik/.pyenv/versions/3.12.5/lib/python3.12/site-packages (from langsmith<0.2.0,>=0.1.17->langchain==0.2.5) (3.10.12)\n",
      "Requirement already satisfied: requests-toolbelt<2.0.0,>=1.0.0 in /Users/wonik/.pyenv/versions/3.12.5/lib/python3.12/site-packages (from langsmith<0.2.0,>=0.1.17->langchain==0.2.5) (1.0.0)\n",
      "Requirement already satisfied: annotated-types>=0.6.0 in /Users/wonik/.pyenv/versions/3.12.5/lib/python3.12/site-packages (from pydantic<3,>=1->langchain==0.2.5) (0.7.0)\n",
      "Requirement already satisfied: pydantic-core==2.27.2 in /Users/wonik/.pyenv/versions/3.12.5/lib/python3.12/site-packages (from pydantic<3,>=1->langchain==0.2.5) (2.27.2)\n",
      "Requirement already satisfied: charset-normalizer<4,>=2 in /Users/wonik/.pyenv/versions/3.12.5/lib/python3.12/site-packages (from requests<3,>=2->langchain==0.2.5) (3.4.1)\n",
      "Requirement already satisfied: idna<4,>=2.5 in /Users/wonik/.pyenv/versions/3.12.5/lib/python3.12/site-packages (from requests<3,>=2->langchain==0.2.5) (3.10)\n",
      "Requirement already satisfied: urllib3<3,>=1.21.1 in /Users/wonik/.pyenv/versions/3.12.5/lib/python3.12/site-packages (from requests<3,>=2->langchain==0.2.5) (2.3.0)\n",
      "Requirement already satisfied: certifi>=2017.4.17 in /Users/wonik/.pyenv/versions/3.12.5/lib/python3.12/site-packages (from requests<3,>=2->langchain==0.2.5) (2024.12.14)\n",
      "Requirement already satisfied: anyio in /Users/wonik/.pyenv/versions/3.12.5/lib/python3.12/site-packages (from httpx<1,>=0.23.0->langsmith<0.2.0,>=0.1.17->langchain==0.2.5) (4.7.0)\n",
      "Requirement already satisfied: httpcore==1.* in /Users/wonik/.pyenv/versions/3.12.5/lib/python3.12/site-packages (from httpx<1,>=0.23.0->langsmith<0.2.0,>=0.1.17->langchain==0.2.5) (1.0.7)\n",
      "Requirement already satisfied: sniffio in /Users/wonik/.pyenv/versions/3.12.5/lib/python3.12/site-packages (from httpx<1,>=0.23.0->langsmith<0.2.0,>=0.1.17->langchain==0.2.5) (1.3.1)\n",
      "Requirement already satisfied: h11<0.15,>=0.13 in /Users/wonik/.pyenv/versions/3.12.5/lib/python3.12/site-packages (from httpcore==1.*->httpx<1,>=0.23.0->langsmith<0.2.0,>=0.1.17->langchain==0.2.5) (0.14.0)\n",
      "Requirement already satisfied: jsonpointer>=1.9 in /Users/wonik/.pyenv/versions/3.12.5/lib/python3.12/site-packages (from jsonpatch<2.0,>=1.33->langchain-core<0.3.0,>=0.2.7->langchain==0.2.5) (3.0.0)\n",
      "Downloading langchain-0.2.5-py3-none-any.whl (974 kB)\n",
      "\u001b[2K   \u001b[90m━━━━━━━━━━━━━━━━━━━━━━━━━━━━━━━━━━━━━━━━\u001b[0m \u001b[32m974.6/974.6 kB\u001b[0m \u001b[31m21.6 MB/s\u001b[0m eta \u001b[36m0:00:00\u001b[0m\n",
      "\u001b[?25hDownloading langchain_core-0.2.43-py3-none-any.whl (397 kB)\n",
      "Downloading langchain_text_splitters-0.2.4-py3-none-any.whl (25 kB)\n",
      "Downloading langsmith-0.1.147-py3-none-any.whl (311 kB)\n",
      "Downloading tenacity-8.5.0-py3-none-any.whl (28 kB)\n",
      "Installing collected packages: tenacity, langsmith, langchain-core, langchain-text-splitters, langchain\n",
      "  Attempting uninstall: tenacity\n",
      "    Found existing installation: tenacity 9.0.0\n",
      "    Uninstalling tenacity-9.0.0:\n",
      "      Successfully uninstalled tenacity-9.0.0\n",
      "  Attempting uninstall: langsmith\n",
      "    Found existing installation: langsmith 0.2.6\n",
      "    Uninstalling langsmith-0.2.6:\n",
      "      Successfully uninstalled langsmith-0.2.6\n",
      "  Attempting uninstall: langchain-core\n",
      "    Found existing installation: langchain-core 0.3.28\n",
      "    Uninstalling langchain-core-0.3.28:\n",
      "      Successfully uninstalled langchain-core-0.3.28\n",
      "  Attempting uninstall: langchain-text-splitters\n",
      "    Found existing installation: langchain-text-splitters 0.3.4\n",
      "    Uninstalling langchain-text-splitters-0.3.4:\n",
      "      Successfully uninstalled langchain-text-splitters-0.3.4\n",
      "  Attempting uninstall: langchain\n",
      "    Found existing installation: langchain 0.3.13\n",
      "    Uninstalling langchain-0.3.13:\n",
      "      Successfully uninstalled langchain-0.3.13\n",
      "\u001b[31mERROR: pip's dependency resolver does not currently take into account all the packages that are installed. This behaviour is the source of the following dependency conflicts.\n",
      "langchain-openai 0.2.14 requires langchain-core<0.4.0,>=0.3.27, but you have langchain-core 0.2.43 which is incompatible.\n",
      "langchain-openai 0.2.14 requires openai<2.0.0,>=1.58.1, but you have openai 0.28.0 which is incompatible.\n",
      "chromadb 0.5.23 requires tokenizers<=0.20.3,>=0.13.2, but you have tokenizers 0.21.0 which is incompatible.\n",
      "langchain-community 0.3.13 requires langchain<0.4.0,>=0.3.13, but you have langchain 0.2.5 which is incompatible.\n",
      "langchain-community 0.3.13 requires langchain-core<0.4.0,>=0.3.27, but you have langchain-core 0.2.43 which is incompatible.\n",
      "langchain-anthropic 0.3.1 requires langchain-core<0.4.0,>=0.3.27, but you have langchain-core 0.2.43 which is incompatible.\u001b[0m\u001b[31m\n",
      "\u001b[0mSuccessfully installed langchain-0.2.5 langchain-core-0.2.43 langchain-text-splitters-0.2.4 langsmith-0.1.147 tenacity-8.5.0\n",
      "\n",
      "\u001b[1m[\u001b[0m\u001b[34;49mnotice\u001b[0m\u001b[1;39;49m]\u001b[0m\u001b[39;49m A new release of pip is available: \u001b[0m\u001b[31;49m24.2\u001b[0m\u001b[39;49m -> \u001b[0m\u001b[32;49m24.3.1\u001b[0m\n",
      "\u001b[1m[\u001b[0m\u001b[34;49mnotice\u001b[0m\u001b[1;39;49m]\u001b[0m\u001b[39;49m To update, run: \u001b[0m\u001b[32;49mpip install --upgrade pip\u001b[0m\n",
      "Collecting langchain-community==0.2.5\n",
      "  Downloading langchain_community-0.2.5-py3-none-any.whl.metadata (2.5 kB)\n",
      "Requirement already satisfied: PyYAML>=5.3 in /Users/wonik/.pyenv/versions/3.12.5/lib/python3.12/site-packages (from langchain-community==0.2.5) (6.0.2)\n",
      "Requirement already satisfied: SQLAlchemy<3,>=1.4 in /Users/wonik/.pyenv/versions/3.12.5/lib/python3.12/site-packages (from langchain-community==0.2.5) (2.0.36)\n",
      "Requirement already satisfied: aiohttp<4.0.0,>=3.8.3 in /Users/wonik/.pyenv/versions/3.12.5/lib/python3.12/site-packages (from langchain-community==0.2.5) (3.11.11)\n",
      "Requirement already satisfied: dataclasses-json<0.7,>=0.5.7 in /Users/wonik/.pyenv/versions/3.12.5/lib/python3.12/site-packages (from langchain-community==0.2.5) (0.6.7)\n",
      "Requirement already satisfied: langchain<0.3.0,>=0.2.5 in /Users/wonik/.pyenv/versions/3.12.5/lib/python3.12/site-packages (from langchain-community==0.2.5) (0.2.5)\n",
      "Requirement already satisfied: langchain-core<0.3.0,>=0.2.7 in /Users/wonik/.pyenv/versions/3.12.5/lib/python3.12/site-packages (from langchain-community==0.2.5) (0.2.43)\n",
      "Requirement already satisfied: langsmith<0.2.0,>=0.1.0 in /Users/wonik/.pyenv/versions/3.12.5/lib/python3.12/site-packages (from langchain-community==0.2.5) (0.1.147)\n",
      "Requirement already satisfied: numpy<2.0.0,>=1.26.0 in /Users/wonik/.pyenv/versions/3.12.5/lib/python3.12/site-packages (from langchain-community==0.2.5) (1.26.4)\n",
      "Requirement already satisfied: requests<3,>=2 in /Users/wonik/.pyenv/versions/3.12.5/lib/python3.12/site-packages (from langchain-community==0.2.5) (2.32.3)\n",
      "Requirement already satisfied: tenacity<9.0.0,>=8.1.0 in /Users/wonik/.pyenv/versions/3.12.5/lib/python3.12/site-packages (from langchain-community==0.2.5) (8.5.0)\n",
      "Requirement already satisfied: aiohappyeyeballs>=2.3.0 in /Users/wonik/.pyenv/versions/3.12.5/lib/python3.12/site-packages (from aiohttp<4.0.0,>=3.8.3->langchain-community==0.2.5) (2.4.4)\n",
      "Requirement already satisfied: aiosignal>=1.1.2 in /Users/wonik/.pyenv/versions/3.12.5/lib/python3.12/site-packages (from aiohttp<4.0.0,>=3.8.3->langchain-community==0.2.5) (1.3.2)\n",
      "Requirement already satisfied: attrs>=17.3.0 in /Users/wonik/.pyenv/versions/3.12.5/lib/python3.12/site-packages (from aiohttp<4.0.0,>=3.8.3->langchain-community==0.2.5) (24.3.0)\n",
      "Requirement already satisfied: frozenlist>=1.1.1 in /Users/wonik/.pyenv/versions/3.12.5/lib/python3.12/site-packages (from aiohttp<4.0.0,>=3.8.3->langchain-community==0.2.5) (1.5.0)\n",
      "Requirement already satisfied: multidict<7.0,>=4.5 in /Users/wonik/.pyenv/versions/3.12.5/lib/python3.12/site-packages (from aiohttp<4.0.0,>=3.8.3->langchain-community==0.2.5) (6.1.0)\n",
      "Requirement already satisfied: propcache>=0.2.0 in /Users/wonik/.pyenv/versions/3.12.5/lib/python3.12/site-packages (from aiohttp<4.0.0,>=3.8.3->langchain-community==0.2.5) (0.2.1)\n",
      "Requirement already satisfied: yarl<2.0,>=1.17.0 in /Users/wonik/.pyenv/versions/3.12.5/lib/python3.12/site-packages (from aiohttp<4.0.0,>=3.8.3->langchain-community==0.2.5) (1.18.3)\n",
      "Requirement already satisfied: marshmallow<4.0.0,>=3.18.0 in /Users/wonik/.pyenv/versions/3.12.5/lib/python3.12/site-packages (from dataclasses-json<0.7,>=0.5.7->langchain-community==0.2.5) (3.23.2)\n",
      "Requirement already satisfied: typing-inspect<1,>=0.4.0 in /Users/wonik/.pyenv/versions/3.12.5/lib/python3.12/site-packages (from dataclasses-json<0.7,>=0.5.7->langchain-community==0.2.5) (0.9.0)\n",
      "Requirement already satisfied: langchain-text-splitters<0.3.0,>=0.2.0 in /Users/wonik/.pyenv/versions/3.12.5/lib/python3.12/site-packages (from langchain<0.3.0,>=0.2.5->langchain-community==0.2.5) (0.2.4)\n",
      "Requirement already satisfied: pydantic<3,>=1 in /Users/wonik/.pyenv/versions/3.12.5/lib/python3.12/site-packages (from langchain<0.3.0,>=0.2.5->langchain-community==0.2.5) (2.10.4)\n",
      "Requirement already satisfied: jsonpatch<2.0,>=1.33 in /Users/wonik/.pyenv/versions/3.12.5/lib/python3.12/site-packages (from langchain-core<0.3.0,>=0.2.7->langchain-community==0.2.5) (1.33)\n",
      "Requirement already satisfied: packaging<25,>=23.2 in /Users/wonik/.pyenv/versions/3.12.5/lib/python3.12/site-packages (from langchain-core<0.3.0,>=0.2.7->langchain-community==0.2.5) (23.2)\n",
      "Requirement already satisfied: typing-extensions>=4.7 in /Users/wonik/.pyenv/versions/3.12.5/lib/python3.12/site-packages (from langchain-core<0.3.0,>=0.2.7->langchain-community==0.2.5) (4.12.2)\n",
      "Requirement already satisfied: httpx<1,>=0.23.0 in /Users/wonik/.pyenv/versions/3.12.5/lib/python3.12/site-packages (from langsmith<0.2.0,>=0.1.0->langchain-community==0.2.5) (0.27.2)\n",
      "Requirement already satisfied: orjson<4.0.0,>=3.9.14 in /Users/wonik/.pyenv/versions/3.12.5/lib/python3.12/site-packages (from langsmith<0.2.0,>=0.1.0->langchain-community==0.2.5) (3.10.12)\n",
      "Requirement already satisfied: requests-toolbelt<2.0.0,>=1.0.0 in /Users/wonik/.pyenv/versions/3.12.5/lib/python3.12/site-packages (from langsmith<0.2.0,>=0.1.0->langchain-community==0.2.5) (1.0.0)\n",
      "Requirement already satisfied: charset-normalizer<4,>=2 in /Users/wonik/.pyenv/versions/3.12.5/lib/python3.12/site-packages (from requests<3,>=2->langchain-community==0.2.5) (3.4.1)\n",
      "Requirement already satisfied: idna<4,>=2.5 in /Users/wonik/.pyenv/versions/3.12.5/lib/python3.12/site-packages (from requests<3,>=2->langchain-community==0.2.5) (3.10)\n",
      "Requirement already satisfied: urllib3<3,>=1.21.1 in /Users/wonik/.pyenv/versions/3.12.5/lib/python3.12/site-packages (from requests<3,>=2->langchain-community==0.2.5) (2.3.0)\n",
      "Requirement already satisfied: certifi>=2017.4.17 in /Users/wonik/.pyenv/versions/3.12.5/lib/python3.12/site-packages (from requests<3,>=2->langchain-community==0.2.5) (2024.12.14)\n",
      "Requirement already satisfied: anyio in /Users/wonik/.pyenv/versions/3.12.5/lib/python3.12/site-packages (from httpx<1,>=0.23.0->langsmith<0.2.0,>=0.1.0->langchain-community==0.2.5) (4.7.0)\n",
      "Requirement already satisfied: httpcore==1.* in /Users/wonik/.pyenv/versions/3.12.5/lib/python3.12/site-packages (from httpx<1,>=0.23.0->langsmith<0.2.0,>=0.1.0->langchain-community==0.2.5) (1.0.7)\n",
      "Requirement already satisfied: sniffio in /Users/wonik/.pyenv/versions/3.12.5/lib/python3.12/site-packages (from httpx<1,>=0.23.0->langsmith<0.2.0,>=0.1.0->langchain-community==0.2.5) (1.3.1)\n",
      "Requirement already satisfied: h11<0.15,>=0.13 in /Users/wonik/.pyenv/versions/3.12.5/lib/python3.12/site-packages (from httpcore==1.*->httpx<1,>=0.23.0->langsmith<0.2.0,>=0.1.0->langchain-community==0.2.5) (0.14.0)\n",
      "Requirement already satisfied: jsonpointer>=1.9 in /Users/wonik/.pyenv/versions/3.12.5/lib/python3.12/site-packages (from jsonpatch<2.0,>=1.33->langchain-core<0.3.0,>=0.2.7->langchain-community==0.2.5) (3.0.0)\n",
      "Requirement already satisfied: annotated-types>=0.6.0 in /Users/wonik/.pyenv/versions/3.12.5/lib/python3.12/site-packages (from pydantic<3,>=1->langchain<0.3.0,>=0.2.5->langchain-community==0.2.5) (0.7.0)\n",
      "Requirement already satisfied: pydantic-core==2.27.2 in /Users/wonik/.pyenv/versions/3.12.5/lib/python3.12/site-packages (from pydantic<3,>=1->langchain<0.3.0,>=0.2.5->langchain-community==0.2.5) (2.27.2)\n",
      "Requirement already satisfied: mypy-extensions>=0.3.0 in /Users/wonik/.pyenv/versions/3.12.5/lib/python3.12/site-packages (from typing-inspect<1,>=0.4.0->dataclasses-json<0.7,>=0.5.7->langchain-community==0.2.5) (1.0.0)\n",
      "Downloading langchain_community-0.2.5-py3-none-any.whl (2.2 MB)\n",
      "\u001b[2K   \u001b[90m━━━━━━━━━━━━━━━━━━━━━━━━━━━━━━━━━━━━━━━━\u001b[0m \u001b[32m2.2/2.2 MB\u001b[0m \u001b[31m6.5 MB/s\u001b[0m eta \u001b[36m0:00:00\u001b[0mta \u001b[36m0:00:01\u001b[0m\n",
      "\u001b[?25hInstalling collected packages: langchain-community\n",
      "  Attempting uninstall: langchain-community\n",
      "    Found existing installation: langchain-community 0.3.13\n",
      "    Uninstalling langchain-community-0.3.13:\n",
      "      Successfully uninstalled langchain-community-0.3.13\n",
      "Successfully installed langchain-community-0.2.5\n",
      "\n",
      "\u001b[1m[\u001b[0m\u001b[34;49mnotice\u001b[0m\u001b[1;39;49m]\u001b[0m\u001b[39;49m A new release of pip is available: \u001b[0m\u001b[31;49m24.2\u001b[0m\u001b[39;49m -> \u001b[0m\u001b[32;49m24.3.1\u001b[0m\n",
      "\u001b[1m[\u001b[0m\u001b[34;49mnotice\u001b[0m\u001b[1;39;49m]\u001b[0m\u001b[39;49m To update, run: \u001b[0m\u001b[32;49mpip install --upgrade pip\u001b[0m\n",
      "Collecting pypdf==4.2.0\n",
      "  Downloading pypdf-4.2.0-py3-none-any.whl.metadata (7.4 kB)\n",
      "Downloading pypdf-4.2.0-py3-none-any.whl (290 kB)\n",
      "Installing collected packages: pypdf\n",
      "Successfully installed pypdf-4.2.0\n",
      "\n",
      "\u001b[1m[\u001b[0m\u001b[34;49mnotice\u001b[0m\u001b[1;39;49m]\u001b[0m\u001b[39;49m A new release of pip is available: \u001b[0m\u001b[31;49m24.2\u001b[0m\u001b[39;49m -> \u001b[0m\u001b[32;49m24.3.1\u001b[0m\n",
      "\u001b[1m[\u001b[0m\u001b[34;49mnotice\u001b[0m\u001b[1;39;49m]\u001b[0m\u001b[39;49m To update, run: \u001b[0m\u001b[32;49mpip install --upgrade pip\u001b[0m\n"
     ]
    }
   ],
   "source": [
    "!pip install langchain==0.2.5\n",
    "!pip install -U langchain-community==0.2.5\n",
    "!pip install pypdf==4.2.0"
   ]
  },
  {
   "cell_type": "code",
   "execution_count": null,
   "metadata": {},
   "outputs": [],
   "source": [
    "#from google.colab import dirve\n",
    "#drive.mount('/content/drive')"
   ]
  },
  {
   "cell_type": "markdown",
   "metadata": {},
   "source": [
    "## PDF Splitter"
   ]
  },
  {
   "cell_type": "code",
   "execution_count": 9,
   "metadata": {},
   "outputs": [
    {
     "data": {
      "text/plain": [
       "1619"
      ]
     },
     "execution_count": 9,
     "metadata": {},
     "output_type": "execute_result"
    }
   ],
   "source": [
    "from langchain.document_loaders import PyPDFLoader\n",
    "from langchain.text_splitter import RecursiveCharacterTextSplitter\n",
    "import os\n",
    "\n",
    "file_name = \"기업공시서식 작성기준(2024.11.26. 시행).pdf\"\n",
    "file_path = os.getcwd() + f\"/azure/cognitive_search/{file_name}\"\n",
    "\n",
    "loader = PyPDFLoader(file_path)\n",
    "\n",
    "text_splitter = RecursiveCharacterTextSplitter(\n",
    "    chunk_size=300,\n",
    "    chunk_overlap=100,\n",
    "    length_function=len\n",
    ")\n",
    "\n",
    "pages = loader.load_and_split(text_splitter)\n",
    "len(pages)"
   ]
  },
  {
   "cell_type": "code",
   "execution_count": 11,
   "metadata": {},
   "outputs": [
    {
     "data": {
      "text/plain": [
       "Document(metadata={'source': '/Users/wonik/Library/Mobile Documents/iCloud~md~obsidian/Documents/til/TIL/AI/slm_practice/project-multi_slm/azure/cognitive_search/기업공시서식 작성기준(2024.11.26. 시행).pdf', 'page': 19}, page_content='당 부분을 명시․참조하게 한다.\\n ⅵ. 공모후 증권이 국내외 거래소에 상장되는지를 기재한다 . 이 경우 거래소 상장이 확정\\n되었거나 , 상장될 것이라는 합리적 근거가 없는 한, 상장가능성에 대해 단정적으로 표\\n현해서는 아니된다 .\\nⅶ.일반청약자에 대한 환매청구권 부여여부는 한국거래소의 상장규정 또는 금융투자협회\\n의 증권 인수업무 등에 관한 규정에 따라 일반청약자가 공모주식을 공모가격의 90% \\n이상의 가격으로 인수인에게 매도할 수 있는 권리(이하 “환매청구권 ”이라 한다)의 부\\n여여부 , 행사가능기간 등을 기재한다 .')"
      ]
     },
     "execution_count": 11,
     "metadata": {},
     "output_type": "execute_result"
    }
   ],
   "source": [
    "pages[100]"
   ]
  },
  {
   "cell_type": "markdown",
   "metadata": {},
   "source": [
    "## Upload text data to AI Search"
   ]
  },
  {
   "cell_type": "code",
   "execution_count": 7,
   "metadata": {},
   "outputs": [],
   "source": [
    "import re\n",
    "\n",
    "def is_korean_english_ratio_high(text, threshold=0.8):\n",
    "    # 한글과 영어 문자를 찾기 위한 정규식 표현\n",
    "    korean_pattern = re.compile(r'[가-힣]')\n",
    "    english_pattern = re.compile(r'[a-zA-Z]')\n",
    "\n",
    "    # 한글과 영어 문자의 개수 세기\n",
    "    korean_count = len(korean_pattern.findall(text))\n",
    "    english_count = len(english_pattern.findall(text))\n",
    "\n",
    "    # 전체 문자에서 한글과 영어 문자의 비율 계산\n",
    "    total_count = len(text.replace(' ',''))\n",
    "    if total_count == 0:\n",
    "        return False # 텍스트가 비어있으면 False 반환\n",
    "    \n",
    "    ratio = (korean_count + english_count) / total_count\n",
    "    return ratio >= threshold\n",
    "\n",
    "    "
   ]
  },
  {
   "cell_type": "code",
   "execution_count": 3,
   "metadata": {},
   "outputs": [],
   "source": [
    "from azure.cognitive_search.ai_search import AISearch\n",
    "\n",
    "ai_search = AISearch()"
   ]
  },
  {
   "cell_type": "code",
   "execution_count": null,
   "metadata": {},
   "outputs": [],
   "source": [
    "contexts = []\n",
    "\n",
    "for page in pages:\n",
    "    if is_korean_english_ratio_high(page.page_content):\n",
    "        contexts.append({\n",
    "            'context' : page.page_content,\n",
    "            'file_name': file_name\n",
    "        })\n",
    "\n",
    "ai_search.upload(contexts)"
   ]
  },
  {
   "cell_type": "markdown",
   "metadata": {},
   "source": [
    "## Keyword 검색"
   ]
  },
  {
   "cell_type": "code",
   "execution_count": null,
   "metadata": {},
   "outputs": [],
   "source": [
    "search_documents = ai_search.search(\n",
    "    query='noise',\n",
    "    file_name=file_name,\n",
    "    topk=3\n",
    ")\n",
    "\n",
    "print(search_documents)"
   ]
  },
  {
   "cell_type": "markdown",
   "metadata": {},
   "source": [
    "# Bing Search API"
   ]
  },
  {
   "cell_type": "code",
   "execution_count": 1,
   "metadata": {},
   "outputs": [
    {
     "name": "stdout",
     "output_type": "stream",
     "text": [
      "Requirement already satisfied: openai==0.28 in /Users/wonik/.pyenv/versions/3.12.5/lib/python3.12/site-packages (0.28.0)\n",
      "Requirement already satisfied: requests>=2.20 in /Users/wonik/.pyenv/versions/3.12.5/lib/python3.12/site-packages (from openai==0.28) (2.32.3)\n",
      "Requirement already satisfied: tqdm in /Users/wonik/.pyenv/versions/3.12.5/lib/python3.12/site-packages (from openai==0.28) (4.67.1)\n",
      "Requirement already satisfied: aiohttp in /Users/wonik/.pyenv/versions/3.12.5/lib/python3.12/site-packages (from openai==0.28) (3.11.11)\n",
      "Requirement already satisfied: charset-normalizer<4,>=2 in /Users/wonik/.pyenv/versions/3.12.5/lib/python3.12/site-packages (from requests>=2.20->openai==0.28) (3.4.1)\n",
      "Requirement already satisfied: idna<4,>=2.5 in /Users/wonik/.pyenv/versions/3.12.5/lib/python3.12/site-packages (from requests>=2.20->openai==0.28) (3.10)\n",
      "Requirement already satisfied: urllib3<3,>=1.21.1 in /Users/wonik/.pyenv/versions/3.12.5/lib/python3.12/site-packages (from requests>=2.20->openai==0.28) (2.3.0)\n",
      "Requirement already satisfied: certifi>=2017.4.17 in /Users/wonik/.pyenv/versions/3.12.5/lib/python3.12/site-packages (from requests>=2.20->openai==0.28) (2024.12.14)\n",
      "Requirement already satisfied: aiohappyeyeballs>=2.3.0 in /Users/wonik/.pyenv/versions/3.12.5/lib/python3.12/site-packages (from aiohttp->openai==0.28) (2.4.4)\n",
      "Requirement already satisfied: aiosignal>=1.1.2 in /Users/wonik/.pyenv/versions/3.12.5/lib/python3.12/site-packages (from aiohttp->openai==0.28) (1.3.2)\n",
      "Requirement already satisfied: attrs>=17.3.0 in /Users/wonik/.pyenv/versions/3.12.5/lib/python3.12/site-packages (from aiohttp->openai==0.28) (24.3.0)\n",
      "Requirement already satisfied: frozenlist>=1.1.1 in /Users/wonik/.pyenv/versions/3.12.5/lib/python3.12/site-packages (from aiohttp->openai==0.28) (1.5.0)\n",
      "Requirement already satisfied: multidict<7.0,>=4.5 in /Users/wonik/.pyenv/versions/3.12.5/lib/python3.12/site-packages (from aiohttp->openai==0.28) (6.1.0)\n",
      "Requirement already satisfied: propcache>=0.2.0 in /Users/wonik/.pyenv/versions/3.12.5/lib/python3.12/site-packages (from aiohttp->openai==0.28) (0.2.1)\n",
      "Requirement already satisfied: yarl<2.0,>=1.17.0 in /Users/wonik/.pyenv/versions/3.12.5/lib/python3.12/site-packages (from aiohttp->openai==0.28) (1.18.3)\n",
      "\n",
      "\u001b[1m[\u001b[0m\u001b[34;49mnotice\u001b[0m\u001b[1;39;49m]\u001b[0m\u001b[39;49m A new release of pip is available: \u001b[0m\u001b[31;49m24.2\u001b[0m\u001b[39;49m -> \u001b[0m\u001b[32;49m24.3.1\u001b[0m\n",
      "\u001b[1m[\u001b[0m\u001b[34;49mnotice\u001b[0m\u001b[1;39;49m]\u001b[0m\u001b[39;49m To update, run: \u001b[0m\u001b[32;49mpip install --upgrade pip\u001b[0m\n"
     ]
    }
   ],
   "source": [
    "!pip install openai==0.28"
   ]
  },
  {
   "cell_type": "code",
   "execution_count": 1,
   "metadata": {},
   "outputs": [
    {
     "data": {
      "text/plain": [
       "[{'title': '대한민국 - 나무위키',\n",
       "  'snippet': '한국 사회의 문제점 · 헬조선 · 국뽕 · 자국 혐오 ·니트족 · 열정페이 · 저출산 · 고령화 · 인종차별 · 난민 수용 논란 · 외국인 노동자 문제 · 지역 갈등 · 젠더 분쟁 · 성소수자 · 세대 갈등 · 강한 자만이 살아남는 90년대 · 인터넷 검열 · 권위주의· 황금 티켓 증후군',\n",
       "  'url': 'https://namu.wiki/w/%EB%8C%80%ED%95%9C%EB%AF%BC%EA%B5%AD'},\n",
       " {'title': '한국 - 위키백과, 우리 모두의 백과사전',\n",
       "  'snippet': '한국(韓國), 조선(朝鮮), 남북한(南北韓), 또는 코리아(영어: Korea)는 동아시아의 한반도(조선반도)에 위치한 지역 또는 나라를 지칭하는 말로, 오늘날에는 한반도와 그 부속 도서를 이르는 말이다.. 넓은 의미로 한국은 고조선 건국 이후 한반도에서 설립된 한민족 국가를 통칭하는 말이다.',\n",
       "  'url': 'https://ko.wikipedia.org/wiki/%ED%95%9C%EA%B5%AD'},\n",
       " {'title': '대한민국 - 위키백과, 우리 모두의 백과사전',\n",
       "  'snippet': '대한민국(한국 한자: 大韓民國, 문화어: 남조선(2023년까지), 대한민국)은 동아시아의 한반도 군사 분계선 남부에 위치한 나라이다. 약칭으로 한국(한국 한자: 韓國)과 남한(한국 한자: 南韓)으로 부르며 현정체제는 대한민국 제6공화국이다. 대한민국의 국기는 대한민국 국기법에 따라 태극기  이며 ...',\n",
       "  'url': 'https://ko.wikipedia.org/wiki/%EB%8C%80%ED%95%9C%EB%AF%BC%EA%B5%AD'}]"
      ]
     },
     "execution_count": 1,
     "metadata": {},
     "output_type": "execute_result"
    }
   ],
   "source": [
    "# Web API\n",
    "from azure.bing_search.web import Web\n",
    "\n",
    "web = Web()\n",
    "\n",
    "web.search(query='한국')"
   ]
  },
  {
   "cell_type": "code",
   "execution_count": 1,
   "metadata": {},
   "outputs": [
    {
     "data": {
      "text/plain": [
       "[{'title': '\"주가 하락하면 자사주도 덜 준다\"…\\'주가부양\\' 칼빼든 삼성전자',\n",
       "  'snippet': '삼성전자는 특히 약정 체결 이후 주가가 하락할 경우 하락률만큼 지급 주식 수량이 줄어들도록 했다. 삼성전자 관계자는 \"지난 1년간의 성과에 따른 성과급을 받고 끝나는 게 아니라 향후 1년간 주가 하락에 대해서도 책임을 지도록 해 그만큼 임원의 책임 경영을 강화하고자 하는 것\"이라고 설명했다.',\n",
       "  'url': 'https://www.yna.co.kr/view/AKR20250117103800003'},\n",
       " {'title': '주가 떨어지면 삼성전자 임원 성과급도 감소.. 자사주 성과급 ...',\n",
       "  'snippet': '주가 떨어지면 삼성전자 임원 성과급도 감소.. 자사주 성과급 제도 도입, 1년 뒤 지급 시점에 주가 10% 떨어지면 자사주 수량도 10% 줄어 책임 경영 ...',\n",
       "  'url': 'https://www.hankyung.com/article/202501172747i'},\n",
       " {'title': '삼성전자, 임원 성과급 자사주로 지급한다…주가 하락 시 약정 ...',\n",
       "  'snippet': '삼성전자 서울 서초 사옥. 박효상 기자 삼성전자가 임원의 성과급을 자사주로 지급한다. 책임경영 강화의 일환이다. 삼성전자는 17일 사내 게시판에 임원에 대한 초과이익성과급(opi)의 일부를 자사주로 지급하기로 했다는 내용을 공지했다.',\n",
       "  'url': 'https://www.kukinews.com/article/view/kuk202501170130'}]"
      ]
     },
     "execution_count": 1,
     "metadata": {},
     "output_type": "execute_result"
    }
   ],
   "source": [
    "# News API\n",
    "from azure.bing_search.news import News\n",
    "\n",
    "news = News()\n",
    "news.search(\"삼성전자\")\n"
   ]
  }
 ],
 "metadata": {
  "kernelspec": {
   "display_name": "Python 3",
   "language": "python",
   "name": "python3"
  },
  "language_info": {
   "codemirror_mode": {
    "name": "ipython",
    "version": 3
   },
   "file_extension": ".py",
   "mimetype": "text/x-python",
   "name": "python",
   "nbconvert_exporter": "python",
   "pygments_lexer": "ipython3",
   "version": "3.12.5"
  }
 },
 "nbformat": 4,
 "nbformat_minor": 2
}
