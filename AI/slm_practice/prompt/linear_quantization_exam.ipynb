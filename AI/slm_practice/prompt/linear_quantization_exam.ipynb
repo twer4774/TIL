{
 "cells": [
  {
   "cell_type": "markdown",
   "metadata": {},
   "source": [
    "# Linear Quantitzation 예제"
   ]
  },
  {
   "cell_type": "code",
   "execution_count": null,
   "metadata": {
    "vscode": {
     "languageId": "plaintext"
    }
   },
   "outputs": [],
   "source": [
    "!pip install bitsandbytes==0.43.1\n",
    "!pip install accelerate==0.30.1\n",
    "!pip install transformers==4.39.3"
   ]
  },
  {
   "cell_type": "code",
   "execution_count": null,
   "metadata": {},
   "outputs": [],
   "source": [
    "from huggingface_hub import notebook_login\n",
    "notebook_login()"
   ]
  },
  {
   "cell_type": "code",
   "execution_count": null,
   "metadata": {},
   "outputs": [],
   "source": [
    "import torch\n",
    "from transformers import (\n",
    "    AutoTokenizer,\n",
    "    AutoModelForCausalLM,\n",
    "    BitsAndBytesConfig,\n",
    ")\n",
    "# 라마 모델은 허깅페이스에서 동의를 해야하므로 사이트에 접속 후에 동의필요\n",
    "model_id = \"meta-llama/Meta-Llama-3-8B-Instruct\"\n",
    "\n",
    "tokenizer = AutoTokenizer.from_pretrained(model_id)\n",
    "\n",
    "config = BitsAndBytesConfig(\n",
    "    load_in_4bit=True,                    # 4비트로 처리\n",
    "    bnb_4bit_quant_type=\"nf4\",            # 4비트로 처리할 때 가장 효율이 좋은 타입 (QLoRA에서도 이용함)\n",
    "    bnb_4bit_use_double_quant=True,       \n",
    "    bnb_4bit_compute_dtype=torch.bfloat16 \n",
    ")\n",
    "\n",
    "model = AutoModelForCausalLM.from_pretrained(\n",
    "    model_id,\n",
    "    torch_dtype=\"auto\",         \n",
    "    device_map=\"auto\",          \n",
    "    quantization_config=config  \n",
    ")"
   ]
  },
  {
   "cell_type": "markdown",
   "metadata": {},
   "source": [
    "# 단일 추론"
   ]
  },
  {
   "cell_type": "code",
   "execution_count": null,
   "metadata": {},
   "outputs": [],
   "source": [
    "# 추론\n",
    "messages = [\n",
    "    {\"role\": \"system\", \"content\": \"You are a kind robot.\"},\n",
    "    {\"role\": \"user\", \"'content\": \"이순신이 누구야?\"}\n",
    "]\n",
    "input_ids = tokenizer.apply_chat_template(\n",
    "    messages,\n",
    "    add_generation_prompt=True,\n",
    "    return_tensors=\"pt\",\n",
    "    tokenize=True\n",
    ").to(model.device)\n",
    "\n",
    "print(input_ids)"
   ]
  },
  {
   "cell_type": "code",
   "execution_count": null,
   "metadata": {},
   "outputs": [],
   "source": [
    "print(tokenizer.decode(input_ids[0]))"
   ]
  },
  {
   "cell_type": "code",
   "execution_count": null,
   "metadata": {},
   "outputs": [],
   "source": [
    "# 종료 토큰 정의\n",
    "terminators = [\n",
    "    tokenizer.eos_token_id,\n",
    "    tokenizer.convert_tokens_to_ids(\"<|eot_id|>\")\n",
    "]"
   ]
  },
  {
   "cell_type": "code",
   "execution_count": null,
   "metadata": {},
   "outputs": [],
   "source": [
    "outputs = model.generate(\n",
    "    input_ids=input_ids,\n",
    "    max_new_tokens=300,\n",
    "    eos_token_id=terminators,\n",
    "    do_sample=True, # 같은 프롬프트를 넣어도 다른 예시를 보여줌\n",
    "    temperature=0.7,\n",
    "    no_repeat_ngram_size=2,\n",
    "    pad_token_id=tokenizer.eos_token_id\n",
    ")\n",
    "# 인풋 프롬프트 제외 답변 토큰 추출\n",
    "response = outputs[0][input_ids.shape[-1]:]\n",
    "\n",
    "# 디코드\n",
    "print(\"response : \", tokenizer.decode(response, skip_special_tokens=True))"
   ]
  },
  {
   "cell_type": "markdown",
   "metadata": {},
   "source": [
    "# 배치 추론\n",
    "- CPU가 많이 필요하므로 T4로 불가함"
   ]
  },
  {
   "cell_type": "code",
   "execution_count": null,
   "metadata": {},
   "outputs": [],
   "source": [
    "messages1 = [\n",
    "    {\"role\": \"system\", \"content\": \"You ar a kind robot.\"},\n",
    "    {\"role\": \"user\", \"content\": \"이순신이 누구야?\"}\n",
    "]\n",
    "\n",
    "prompt1 = tokenizer.apply_chat_template(\n",
    "    messages1,\n",
    "    add_generation_prompt=True,\n",
    "    return_tensors=\"pt\",\n",
    "    toeknize=False\n",
    ")\n",
    "\n",
    "print(prompt1)"
   ]
  },
  {
   "cell_type": "code",
   "execution_count": null,
   "metadata": {},
   "outputs": [],
   "source": [
    "messages2 = [\n",
    "    {\"role\": \"system\", \"content\": \"You are a kind robot.\"},\n",
    "    {\"role\": \"user\", \"content\": \"세종대왕이 누구야?\"}\n",
    "]\n",
    "\n",
    "prompt2 = tokenizer.apply_chat_template(\n",
    "    messages2,\n",
    "    add_generation_prompt=True,\n",
    "    return_tensors=\"pt\",\n",
    "    tokenize=False\n",
    ")\n",
    "\n",
    "print(prompt2)"
   ]
  },
  {
   "cell_type": "code",
   "execution_count": null,
   "metadata": {},
   "outputs": [],
   "source": [
    "tokenizer.padding_side = 'left'\n",
    "tokenizer.pad_token_id = tokenizer.eos_token_id\n",
    "\n",
    "prompt_batch = [prompt1, prompt2]\n",
    "input_ids_batch = tokenizer(prompt_batch, return_tensors='pt',padding=\"longest\")['input_ids']"
   ]
  },
  {
   "cell_type": "code",
   "execution_count": null,
   "metadata": {},
   "outputs": [],
   "source": [
    "# Define a list of terminators, which specifies the end-of-sequence token ID\n",
    "terminators = [\n",
    "    tokenizer.eos_token_id,\n",
    "    tokenizer.convert_tokens_to_ids(\"<|eot_id|>\")\n",
    "]"
   ]
  },
  {
   "cell_type": "code",
   "execution_count": null,
   "metadata": {},
   "outputs": [],
   "source": [
    "outputs = model.generate(\n",
    "    input_ids=input_ids_batch,           # Provide the tokenized input prompt\n",
    "    max_new_tokens=30,                  # Specify the maximum number of new tokens to generate\n",
    "    eos_token_id=terminators,            # Specify the end-of-sequence token ID to stop generation\n",
    "    do_sample=True,                      # Enable stochastic mode (randomness)\n",
    "    temperature=0.7,                     # Control the randomness of predictions. Higher values make the output more random, lower values make it more deterministic.\n",
    "    no_repeat_ngram_size=2,              # Prevent repetition of 2-gram sequences. This option prevents the model from repeating the same sequence of 2 tokens (words) more than once.\n",
    "    pad_token_id=tokenizer.eos_token_id  # Use the end-of-sequence token as the padding token.\n",
    ")\n"
   ]
  },
  {
   "cell_type": "code",
   "execution_count": null,
   "metadata": {},
   "outputs": [],
   "source": [
    "# 각 배치에 대한 응답 추출 및 디코딩\n",
    "for i, output in enumerate(outputs):\n",
    "    response = output[input_ids_batch[i].shape[-1]:]\n",
    "    print(f\"response {i + 1}: \", tokenizer.decode(response, skip_special_tokens=True))"
   ]
  }
 ],
 "metadata": {
  "language_info": {
   "name": "python"
  }
 },
 "nbformat": 4,
 "nbformat_minor": 2
}
