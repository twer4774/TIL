{
 "cells": [
  {
   "cell_type": "markdown",
   "metadata": {},
   "source": [
    "** T4에서 실행 안됨. L4이상부터 가능\n",
    "# FlashAttention\n",
    "- 연산 속도를 빠르게 할 수 있는 방법\n",
    "- 기존 self attention 연산을 할 때 데이터를 메모리에서 빠르게 읽고 쓰는 데 병목현상이 있음\n",
    "\n",
    "## FlashAttention-2\n",
    "- FlashAttentio에서의 forward 및 backward 알고리즘을 수정해 연산속도를 개선한 알고리즘\n",
    "- FlashAttention 대비 2배 빠른 속도"
   ]
  },
  {
   "cell_type": "code",
   "execution_count": null,
   "metadata": {
    "vscode": {
     "languageId": "plaintext"
    }
   },
   "outputs": [],
   "source": [
    "!pip install flash-attn --no-build-isolation\n",
    "!pip install accelerate\n",
    "!pip install transformers==4.39.3"
   ]
  },
  {
   "cell_type": "code",
   "execution_count": null,
   "metadata": {},
   "outputs": [],
   "source": [
    "from huggingface_hub import notebook_login\n",
    "\n",
    "notebook_login()"
   ]
  },
  {
   "cell_type": "code",
   "execution_count": null,
   "metadata": {},
   "outputs": [],
   "source": [
    "# phi-2 with flash attention2\n",
    "import torch\n",
    "from transformers import (\n",
    "    AutoTokenizer,\n",
    "    AutoModelForCausalLM\n",
    ")\n",
    "\n",
    "model_id = \"microsoft/phi-2\"\n",
    "\n",
    "tokenizer = AutoTokenizer.from_pretrained(\n",
    "    model_id,\n",
    "    trust_remote_code=True\n",
    ")\n",
    "\n",
    "model = AutoModelForCausalLM.from_pretrained(\n",
    "    model_id,\n",
    "    torch_dtype=\"auto\",\n",
    "    device_map=\"auto\",\n",
    "    attn_implementation=\"flash_attention_2\",\n",
    "    trust_remote_code=True\n",
    ")"
   ]
  },
  {
   "cell_type": "code",
   "execution_count": null,
   "metadata": {},
   "outputs": [],
   "source": [
    "prompt = \"\"\" def factorial(n):\n",
    "Calcuate the factorial of a number n\n",
    "\"\"\"\n",
    "\n",
    "input_ids = tokenizer(\n",
    "    prompt,\n",
    "    return_tensors=\"pt\"\n",
    ").to(model.device)\n",
    "\n",
    "terminators = [\n",
    "    tokenizer.eos_token_id\n",
    "]"
   ]
  },
  {
   "cell_type": "code",
   "execution_count": null,
   "metadata": {},
   "outputs": [],
   "source": [
    "outputs = model.generate(\n",
    "    **input_ids, # dictionary 형태 파싱\n",
    "    max_new_tokens=200,\n",
    "    eos_token_id=terminators,\n",
    "    pad_token_id=tokenizer.eos_token_id\n",
    ")"
   ]
  },
  {
   "cell_type": "code",
   "execution_count": null,
   "metadata": {},
   "outputs": [],
   "source": [
    "response = outputs[0][input_ids['input_ids'].shape[-1]:]\n",
    "\n",
    "print(tokenizer.decode(response, skip_special_tokens=True))"
   ]
  }
 ],
 "metadata": {
  "language_info": {
   "name": "python"
  }
 },
 "nbformat": 4,
 "nbformat_minor": 2
}
