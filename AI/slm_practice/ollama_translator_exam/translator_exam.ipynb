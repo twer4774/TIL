{
 "cells": [
  {
   "cell_type": "markdown",
   "metadata": {},
   "source": [
    "# Llama3 기본 사용법\n",
    "- 텍스트 인풋, 아웃풋만 허용"
   ]
  },
  {
   "cell_type": "code",
   "execution_count": null,
   "metadata": {
    "vscode": {
     "languageId": "plaintext"
    }
   },
   "outputs": [],
   "source": [
    "!pip install transformers accelerate"
   ]
  },
  {
   "cell_type": "code",
   "execution_count": null,
   "metadata": {},
   "outputs": [],
   "source": [
    "from huggingface_hub import notebook_login\n",
    "\n",
    "notebook_login()"
   ]
  },
  {
   "cell_type": "markdown",
   "metadata": {},
   "source": [
    "# 기본 모델 사용법"
   ]
  },
  {
   "cell_type": "code",
   "execution_count": null,
   "metadata": {},
   "outputs": [],
   "source": [
    "import transformers\n",
    "import torch\n",
    "from huggingface_hub import hf_hub_download\n",
    "\n",
    "model_id = \"meta-llama/Meta-Llama-3-8B\"\n",
    "\n",
    "# use hf_hub dowonload\n",
    "config_file = hf_hub_download(repo_id=model_id, filename='config.json', use_auth_token=True)\n",
    "config = transformers.AutoConfig.from_pretrianed(config_file)\n",
    "\n",
    "\n",
    "pipeline = transformers.pipeline(\n",
    "    \"text-generation\"\n",
    "    , model=model_id\n",
    "    , model_kwargs={\"torch_dtype\": torch.bfloat16}\n",
    "    , device_map=\"auto\"\n",
    "    )\n",
    "pipeline(\"Hey how are you doing today?\")"
   ]
  },
  {
   "cell_type": "markdown",
   "metadata": {},
   "source": [
    "# 사전 학습된 모델 사용법 (Instruct)"
   ]
  },
  {
   "cell_type": "code",
   "execution_count": null,
   "metadata": {},
   "outputs": [],
   "source": [
    "from transformers import AutoTokenizer\n",
    "import transformers\n",
    "import torch\n",
    "\n",
    "model = \"meta-llama/Meta-Llama-3-8B-Instruct\"\n",
    "tokenizer = AutoTokenizer.from_pretrained(model)\n",
    "\n",
    "pipeline = transformers.pipeline(\n",
    "    \"text-generation\"\n",
    "    , model=model\n",
    "    , torch_dtype=torch.float16\n",
    "    , device_map=\"auto\"\n",
    ")"
   ]
  },
  {
   "cell_type": "code",
   "execution_count": null,
   "metadata": {},
   "outputs": [],
   "source": [
    "sequennces = pipeline(\n",
    "    'I have tomatoes, basil and cheese at home. What can i cook for dinner?\\n'\n",
    "    , do_sample=True\n",
    "    , top_k=10\n",
    "    , num_return_sequences=1\n",
    "    , eos_token_id=tokenizer.eos_token_id\n",
    "    , truncation=True\n",
    "    , max_length=400\n",
    ")\n",
    "\n",
    "for seq in sequences:\n",
    "    print(f\"Result: {seq['generated_text']}\")\n"
   ]
  }
 ],
 "metadata": {
  "language_info": {
   "name": "python"
  }
 },
 "nbformat": 4,
 "nbformat_minor": 2
}
