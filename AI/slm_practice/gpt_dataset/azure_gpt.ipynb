{
 "cells": [
  {
   "cell_type": "markdown",
   "metadata": {},
   "source": [
    "# Azure OpenAI 이용 방법"
   ]
  },
  {
   "cell_type": "code",
   "execution_count": null,
   "metadata": {
    "vscode": {
     "languageId": "plaintext"
    }
   },
   "outputs": [],
   "source": [
    "!pip install openai==0.28\n",
    "!pip install pdf2image==1.17.0\n",
    "!apt-get install poppler-utils\n",
    "!pip install PyPDF2==3.0.1"
   ]
  },
  {
   "cell_type": "code",
   "execution_count": null,
   "metadata": {},
   "outputs": [],
   "source": [
    "from google.colab import drive\n",
    "drive.mount('/content/drive')"
   ]
  },
  {
   "cell_type": "code",
   "execution_count": null,
   "metadata": {},
   "outputs": [],
   "source": [
    "import os\n",
    "%cd /content/drive/MyDrive/패캠_강의자료/Part3\n",
    "print(os.getcwd())"
   ]
  },
  {
   "cell_type": "code",
   "execution_count": null,
   "metadata": {},
   "outputs": [],
   "source": [
    "import openai\n",
    "import os\n",
    "import yaml\n",
    "\n",
    "def get_auth():\n",
    "    curr_dir = os.getcwd()\n",
    "    auth_path = os.path.join(curr_dir, 'ms_azure/auth.yml')\n",
    "    auth = yaml.safe_load(open(auth_path, encoding='utf-8')) # yaml 파일로 key 저장\n",
    "    return auth\n",
    "\n",
    "auth = get_auth()\n",
    "openai.api_type = \"azure\"\n",
    "openai.api_base = f\"https://{auth['Azure_OpenAI']['name']}.openai.azure.com/\"\n",
    "openai.api_version = \"2023-07-01-preview\"\n",
    "openai.api_key = auth['Azure_OpenAI']['key']\n",
    "\n",
    "\n",
    "system_message = \"You are an AI assistant that helps people find information.\"\n",
    "query = \"안녕 넌 이름이 뭐야\"\n",
    "\n",
    "messages = [{\"role\":\"system\",\"content\":f\"{system_message}\"}]\n",
    "messages.append({\"role\":\"user\",\"content\": f\"{query}\"})\n",
    "\n",
    "try:\n",
    "    response = openai.ChatCompletion.create(\n",
    "        engine='gpt-4o',\n",
    "        messages=messages,\n",
    "        temperature=0.7,\n",
    "    )['choices'][0]['message']['content']\n",
    "except (openai.error.RateLimitError, openai.error.Timeout) as e:\n",
    "    print('OpenAI API RateLimitError Occured!!')\n",
    "\n",
    "print(response)"
   ]
  },
  {
   "cell_type": "markdown",
   "metadata": {},
   "source": [
    "# Generate Dataset With Text"
   ]
  },
  {
   "cell_type": "code",
   "execution_count": null,
   "metadata": {},
   "outputs": [],
   "source": [
    "from PyPDF2 import PdfReader\n",
    "\n",
    "reader = PdfReader(\"./패스트캠퍼스 기업교육 소개서.pdf\")\n",
    "\n",
    "pdf_lists = []\n",
    "\n",
    "for page in reader.pages:\n",
    "    text = page.extract_text()\n",
    "    pdf_lists.append(text)"
   ]
  },
  {
   "cell_type": "code",
   "execution_count": null,
   "metadata": {},
   "outputs": [],
   "source": [
    "pdf_lists[28]"
   ]
  },
  {
   "cell_type": "code",
   "execution_count": null,
   "metadata": {},
   "outputs": [],
   "source": [
    "from ms_azure.gpt_rag import RAG\n",
    "\n",
    "rag = RAG()\n",
    "response = rag._generate(\n",
    "    context = pdf_lists[28]\n",
    ")"
   ]
  },
  {
   "cell_type": "code",
   "execution_count": null,
   "metadata": {},
   "outputs": [],
   "source": [
    "import json\n",
    "json.loads(response)"
   ]
  },
  {
   "cell_type": "markdown",
   "metadata": {},
   "source": [
    "# Generate Dataset With Image\n"
   ]
  },
  {
   "cell_type": "code",
   "execution_count": null,
   "metadata": {},
   "outputs": [],
   "source": [
    "from pdf2image import convert_from_path\n",
    "\n",
    "# PDF 파일 경로\n",
    "pdf_path = '한국의안전보고서2023(펼침면).pdf'\n",
    "\n",
    "# PDF 파일을 이미지로 변환\n",
    "images = convert_from_path(pdf_path)\n",
    "\n",
    "# 각 페이지를 이미지로 저장\n",
    "for i, image in enumerate(images):\n",
    "    image.save('pdf_image/한국안전보고서2023(펼침면)_page_{}.png'.format(i), 'PNG')"
   ]
  },
  {
   "cell_type": "code",
   "execution_count": null,
   "metadata": {},
   "outputs": [],
   "source": [
    "# Encod image to data url\n",
    "\n",
    "import base64\n",
    "from mimetypes import guess_type\n",
    "\n",
    "# Function to encode a local image into data URL\n",
    "def local_image_to_data_url(image_path):\n",
    "    # Guess the MIME type of the image based on the file extension\n",
    "    mime_type, _ = guess_type(image_path)\n",
    "    if mime_type is None:\n",
    "        mime_type = 'application/octet-stream'  # Default MIME type if none is found\n",
    "\n",
    "    # Read and encode the image file\n",
    "    with open(image_path, \"rb\") as image_file:\n",
    "        base64_encoded_data = base64.b64encode(image_file.read()).decode('utf-8')\n",
    "\n",
    "    # Construct the data URL\n",
    "    return f\"data:{mime_type};base64,{base64_encoded_data}\"\n",
    "\n",
    "# Example usage\n",
    "image_path = 'pdf_image/한국의안전보고서2023(펼침면)_page_39.png'\n",
    "data_url = local_image_to_data_url(image_path)\n",
    "print(\"Data URL:\", data_url)"
   ]
  },
  {
   "cell_type": "code",
   "execution_count": null,
   "metadata": {},
   "outputs": [],
   "source": [
    "from ms_azure.extract_context import Extract_Context\n",
    "\n",
    "ec = Extract_Context()\n",
    "response = ec._generate(\n",
    "    img_url = data_url\n",
    ")"
   ]
  },
  {
   "cell_type": "code",
   "execution_count": null,
   "metadata": {},
   "outputs": [],
   "source": [
    "response"
   ]
  },
  {
   "cell_type": "code",
   "execution_count": null,
   "metadata": {},
   "outputs": [],
   "source": [
    "from ms_azure.gpt_rag import RAG\n",
    "\n",
    "rag = RAG()\n",
    "response = rag._generate(\n",
    "    context = response\n",
    ")"
   ]
  },
  {
   "cell_type": "code",
   "execution_count": null,
   "metadata": {},
   "outputs": [],
   "source": [
    "import json\n",
    "json.loads(response)"
   ]
  }
 ],
 "metadata": {
  "language_info": {
   "name": "python"
  }
 },
 "nbformat": 4,
 "nbformat_minor": 2
}
